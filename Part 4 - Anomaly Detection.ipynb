{
 "cells": [
  {
   "cell_type": "markdown",
   "metadata": {},
   "source": [
    "### Context\n",
    "\n",
    "You are a Data analyst at Carrefour Kenya and are currently undertaking a project that will inform the marketing department on the most relevant marketing strategies that will result in the highest no. of sales (total price including tax). Your project has been divided into three parts where you'll explore a recent marketing dataset by performing various unsupervised learning techniques and later providing recommendations based on your insights.\n",
    "\n",
    "#### Anomaly Detection\n",
    "\n",
    "You have also been requested to check whether there are any anomalies in the given sales dataset. The objective of this task being fraud detection."
   ]
  },
  {
   "cell_type": "code",
   "execution_count": 1,
   "metadata": {
    "ExecuteTime": {
     "end_time": "2020-03-23T13:03:27.736627Z",
     "start_time": "2020-03-23T13:03:27.577Z"
    }
   },
   "outputs": [
    {
     "data": {
      "text/html": [
       "<table>\n",
       "<caption>A data.frame: 6 × 2</caption>\n",
       "<thead>\n",
       "\t<tr><th></th><th scope=col>Date</th><th scope=col>Sales</th></tr>\n",
       "\t<tr><th></th><th scope=col>&lt;fct&gt;</th><th scope=col>&lt;dbl&gt;</th></tr>\n",
       "</thead>\n",
       "<tbody>\n",
       "\t<tr><th scope=row>1</th><td>1/5/2019 </td><td>548.9715</td></tr>\n",
       "\t<tr><th scope=row>2</th><td>3/8/2019 </td><td> 80.2200</td></tr>\n",
       "\t<tr><th scope=row>3</th><td>3/3/2019 </td><td>340.5255</td></tr>\n",
       "\t<tr><th scope=row>4</th><td>1/27/2019</td><td>489.0480</td></tr>\n",
       "\t<tr><th scope=row>5</th><td>2/8/2019 </td><td>634.3785</td></tr>\n",
       "\t<tr><th scope=row>6</th><td>3/25/2019</td><td>627.6165</td></tr>\n",
       "</tbody>\n",
       "</table>\n"
      ],
      "text/latex": [
       "A data.frame: 6 × 2\n",
       "\\begin{tabular}{r|ll}\n",
       "  & Date & Sales\\\\\n",
       "  & <fct> & <dbl>\\\\\n",
       "\\hline\n",
       "\t1 & 1/5/2019  & 548.9715\\\\\n",
       "\t2 & 3/8/2019  &  80.2200\\\\\n",
       "\t3 & 3/3/2019  & 340.5255\\\\\n",
       "\t4 & 1/27/2019 & 489.0480\\\\\n",
       "\t5 & 2/8/2019  & 634.3785\\\\\n",
       "\t6 & 3/25/2019 & 627.6165\\\\\n",
       "\\end{tabular}\n"
      ],
      "text/markdown": [
       "\n",
       "A data.frame: 6 × 2\n",
       "\n",
       "| <!--/--> | Date &lt;fct&gt; | Sales &lt;dbl&gt; |\n",
       "|---|---|---|\n",
       "| 1 | 1/5/2019  | 548.9715 |\n",
       "| 2 | 3/8/2019  |  80.2200 |\n",
       "| 3 | 3/3/2019  | 340.5255 |\n",
       "| 4 | 1/27/2019 | 489.0480 |\n",
       "| 5 | 2/8/2019  | 634.3785 |\n",
       "| 6 | 3/25/2019 | 627.6165 |\n",
       "\n"
      ],
      "text/plain": [
       "  Date      Sales   \n",
       "1 1/5/2019  548.9715\n",
       "2 3/8/2019   80.2200\n",
       "3 3/3/2019  340.5255\n",
       "4 1/27/2019 489.0480\n",
       "5 2/8/2019  634.3785\n",
       "6 3/25/2019 627.6165"
      ]
     },
     "metadata": {},
     "output_type": "display_data"
    }
   ],
   "source": [
    "data <- read.csv(\"Supermarket_Sales_Forecasting.csv\")\n",
    "head(data)"
   ]
  },
  {
   "cell_type": "code",
   "execution_count": 2,
   "metadata": {
    "ExecuteTime": {
     "end_time": "2020-03-23T13:03:36.773606Z",
     "start_time": "2020-03-23T13:03:36.721Z"
    }
   },
   "outputs": [
    {
     "data": {
      "text/html": [
       "<style>\n",
       ".list-inline {list-style: none; margin:0; padding: 0}\n",
       ".list-inline>li {display: inline-block}\n",
       ".list-inline>li:not(:last-child)::after {content: \"\\00b7\"; padding: 0 .5ex}\n",
       "</style>\n",
       "<ol class=list-inline><li>1000</li><li>2</li></ol>\n"
      ],
      "text/latex": [
       "\\begin{enumerate*}\n",
       "\\item 1000\n",
       "\\item 2\n",
       "\\end{enumerate*}\n"
      ],
      "text/markdown": [
       "1. 1000\n",
       "2. 2\n",
       "\n",
       "\n"
      ],
      "text/plain": [
       "[1] 1000    2"
      ]
     },
     "metadata": {},
     "output_type": "display_data"
    }
   ],
   "source": [
    "dim(data)"
   ]
  },
  {
   "cell_type": "markdown",
   "metadata": {},
   "source": [
    "The dataset has 1000 rows and 2 columns"
   ]
  },
  {
   "cell_type": "code",
   "execution_count": 3,
   "metadata": {
    "ExecuteTime": {
     "end_time": "2020-03-23T13:04:17.768793Z",
     "start_time": "2020-03-23T13:04:17.705Z"
    }
   },
   "outputs": [
    {
     "name": "stdout",
     "output_type": "stream",
     "text": [
      "'data.frame':\t1000 obs. of  2 variables:\n",
      " $ Date : Factor w/ 89 levels \"1/1/2019\",\"1/10/2019\",..: 27 88 82 20 58 77 49 48 2 44 ...\n",
      " $ Sales: num  549 80.2 340.5 489 634.4 ...\n"
     ]
    }
   ],
   "source": [
    "# Checking data structure\n",
    "str(data)"
   ]
  },
  {
   "cell_type": "markdown",
   "metadata": {},
   "source": [
    "- Dataset is a dataframe\n",
    "- Date should have datetime datatype\n",
    "- Sales column has the correct datatype"
   ]
  },
  {
   "cell_type": "code",
   "execution_count": 4,
   "metadata": {
    "ExecuteTime": {
     "end_time": "2020-03-23T13:05:46.883403Z",
     "start_time": "2020-03-23T13:05:46.838Z"
    }
   },
   "outputs": [],
   "source": [
    "# Converting sales from a factor to date type\n",
    "data$Date <- as.Date(data$Date, \"%m/%d/%Y\")"
   ]
  },
  {
   "cell_type": "code",
   "execution_count": 6,
   "metadata": {
    "ExecuteTime": {
     "end_time": "2020-03-23T13:06:03.042646Z",
     "start_time": "2020-03-23T13:06:02.977Z"
    }
   },
   "outputs": [
    {
     "name": "stdout",
     "output_type": "stream",
     "text": [
      "'data.frame':\t1000 obs. of  2 variables:\n",
      " $ Date : Date, format: \"2019-01-05\" \"2019-03-08\" ...\n",
      " $ Sales: num  549 80.2 340.5 489 634.4 ...\n"
     ]
    }
   ],
   "source": [
    "# Checking new data structure.\n",
    "str(data)"
   ]
  },
  {
   "cell_type": "markdown",
   "metadata": {},
   "source": [
    "Nice"
   ]
  },
  {
   "cell_type": "markdown",
   "metadata": {},
   "source": [
    "#### Visualizing our dataset"
   ]
  },
  {
   "cell_type": "code",
   "execution_count": 10,
   "metadata": {
    "ExecuteTime": {
     "end_time": "2020-03-23T13:09:30.792214Z",
     "start_time": "2020-03-23T13:08:59.184Z"
    }
   },
   "outputs": [
    {
     "name": "stderr",
     "output_type": "stream",
     "text": [
      "Installing package into 'C:/Users/lggat/OneDrive/Documents/R/win-library/3.6'\n",
      "(as 'lib' is unspecified)\n"
     ]
    },
    {
     "name": "stdout",
     "output_type": "stream",
     "text": [
      "package 'ggplot2' successfully unpacked and MD5 sums checked\n",
      "\n",
      "The downloaded binary packages are in\n",
      "\tC:\\Users\\lggat\\AppData\\Local\\Temp\\RtmpGqxMrM\\downloaded_packages\n"
     ]
    }
   ],
   "source": [
    "install.packages(\"ggplot2\")"
   ]
  },
  {
   "cell_type": "code",
   "execution_count": 13,
   "metadata": {
    "ExecuteTime": {
     "end_time": "2020-03-23T13:13:09.658145Z",
     "start_time": "2020-03-23T13:13:09.064Z"
    }
   },
   "outputs": [
    {
     "data": {
      "image/png": "[encoded data removed]",
      "text/plain": [
       "plot without title"
      ]
     },
     "metadata": {},
     "output_type": "display_data"
    }
   ],
   "source": [
    "# Sales distribution over time\n",
    "library(ggplot2)\n",
    "ggplot(data = data, aes(x = Date, y = Sales)) +\n",
    "      geom_bar(stat = \"identity\", fill = \"maroon\") +\n",
    "      labs(title = \"Sales distribution\",\n",
    "           x = \"Date\", y = \"Sales(ksh)\")"
   ]
  },
  {
   "cell_type": "markdown",
   "metadata": {},
   "source": [
    "We observe a fluctuation in sales over the months, the highest being in March and lowest in February"
   ]
  },
  {
   "cell_type": "code",
   "execution_count": 14,
   "metadata": {
    "ExecuteTime": {
     "end_time": "2020-03-23T13:21:27.282535Z",
     "start_time": "2020-03-23T13:21:18.630Z"
    }
   },
   "outputs": [
    {
     "name": "stderr",
     "output_type": "stream",
     "text": [
      "-- Attaching packages --------------------------------------- tidyverse 1.3.0 --\n",
      "v tibble  2.1.3     v dplyr   0.8.4\n",
      "v tidyr   1.0.2     v stringr 1.4.0\n",
      "v readr   1.3.1     v forcats 0.5.0\n",
      "v purrr   0.3.3     \n",
      "Warning message:\n",
      "\"package 'forcats' was built under R version 3.6.3\"-- Conflicts ------------------------------------------ tidyverse_conflicts() --\n",
      "x dplyr::filter()  masks stats::filter()\n",
      "x purrr::flatten() masks jsonlite::flatten()\n",
      "x dplyr::lag()     masks stats::lag()\n",
      "Warning message:\n",
      "\"package 'anomalize' was built under R version 3.6.3\"== Use anomalize to improve your Forecasts by 50%! =============================\n",
      "Business Science offers a 1-hour course - Lab #18: Time Series Anomaly Detection!\n",
      "</> Learn more at: https://university.business-science.io/p/learning-labs-pro </>\n",
      "Warning message:\n",
      "\"package 'tibbletime' was built under R version 3.6.3\"\n",
      "Attaching package: 'tibbletime'\n",
      "\n",
      "The following object is masked from 'package:stats':\n",
      "\n",
      "    filter\n",
      "\n"
     ]
    }
   ],
   "source": [
    "# Load libraries\n",
    "library(tidyverse)\n",
    "library(anomalize)\n",
    "library(tibbletime)"
   ]
  },
  {
   "cell_type": "code",
   "execution_count": 15,
   "metadata": {
    "ExecuteTime": {
     "end_time": "2020-03-23T13:22:03.533914Z",
     "start_time": "2020-03-23T13:22:03.452Z"
    }
   },
   "outputs": [
    {
     "data": {
      "text/html": [
       "<table>\n",
       "<caption>A data.frame: 6 × 2</caption>\n",
       "<thead>\n",
       "\t<tr><th></th><th scope=col>Date</th><th scope=col>Sales</th></tr>\n",
       "\t<tr><th></th><th scope=col>&lt;date&gt;</th><th scope=col>&lt;dbl&gt;</th></tr>\n",
       "</thead>\n",
       "<tbody>\n",
       "\t<tr><th scope=row>1</th><td>2019-01-01</td><td>457.443</td></tr>\n",
       "\t<tr><th scope=row>2</th><td>2019-01-01</td><td>399.756</td></tr>\n",
       "\t<tr><th scope=row>3</th><td>2019-01-01</td><td>470.673</td></tr>\n",
       "\t<tr><th scope=row>4</th><td>2019-01-01</td><td>388.290</td></tr>\n",
       "\t<tr><th scope=row>5</th><td>2019-01-01</td><td>132.762</td></tr>\n",
       "\t<tr><th scope=row>6</th><td>2019-01-01</td><td>132.027</td></tr>\n",
       "</tbody>\n",
       "</table>\n"
      ],
      "text/latex": [
       "A data.frame: 6 × 2\n",
       "\\begin{tabular}{r|ll}\n",
       "  & Date & Sales\\\\\n",
       "  & <date> & <dbl>\\\\\n",
       "\\hline\n",
       "\t1 & 2019-01-01 & 457.443\\\\\n",
       "\t2 & 2019-01-01 & 399.756\\\\\n",
       "\t3 & 2019-01-01 & 470.673\\\\\n",
       "\t4 & 2019-01-01 & 388.290\\\\\n",
       "\t5 & 2019-01-01 & 132.762\\\\\n",
       "\t6 & 2019-01-01 & 132.027\\\\\n",
       "\\end{tabular}\n"
      ],
      "text/markdown": [
       "\n",
       "A data.frame: 6 × 2\n",
       "\n",
       "| <!--/--> | Date &lt;date&gt; | Sales &lt;dbl&gt; |\n",
       "|---|---|---|\n",
       "| 1 | 2019-01-01 | 457.443 |\n",
       "| 2 | 2019-01-01 | 399.756 |\n",
       "| 3 | 2019-01-01 | 470.673 |\n",
       "| 4 | 2019-01-01 | 388.290 |\n",
       "| 5 | 2019-01-01 | 132.762 |\n",
       "| 6 | 2019-01-01 | 132.027 |\n",
       "\n"
      ],
      "text/plain": [
       "  Date       Sales  \n",
       "1 2019-01-01 457.443\n",
       "2 2019-01-01 399.756\n",
       "3 2019-01-01 470.673\n",
       "4 2019-01-01 388.290\n",
       "5 2019-01-01 132.762\n",
       "6 2019-01-01 132.027"
      ]
     },
     "metadata": {},
     "output_type": "display_data"
    }
   ],
   "source": [
    "#Ordering the data by Date\n",
    "data = data %>% arrange(Date)\n",
    "head(data)"
   ]
  },
  {
   "cell_type": "code",
   "execution_count": 16,
   "metadata": {
    "ExecuteTime": {
     "end_time": "2020-03-23T13:22:57.647735Z",
     "start_time": "2020-03-23T13:22:57.526Z"
    },
    "scrolled": true
   },
   "outputs": [
    {
     "data": {
      "text/html": [
       "<table>\n",
       "<caption>A data.frame: 6 × 2</caption>\n",
       "<thead>\n",
       "\t<tr><th></th><th scope=col>Date</th><th scope=col>Sales</th></tr>\n",
       "\t<tr><th></th><th scope=col>&lt;date&gt;</th><th scope=col>&lt;dbl&gt;</th></tr>\n",
       "</thead>\n",
       "<tbody>\n",
       "\t<tr><th scope=row>1</th><td>2019-01-01</td><td>395.4318</td></tr>\n",
       "\t<tr><th scope=row>2</th><td>2019-01-02</td><td>243.1879</td></tr>\n",
       "\t<tr><th scope=row>3</th><td>2019-01-03</td><td>259.7661</td></tr>\n",
       "\t<tr><th scope=row>4</th><td>2019-01-04</td><td>270.6148</td></tr>\n",
       "\t<tr><th scope=row>5</th><td>2019-01-05</td><td>294.7236</td></tr>\n",
       "\t<tr><th scope=row>6</th><td>2019-01-06</td><td>401.5783</td></tr>\n",
       "</tbody>\n",
       "</table>\n"
      ],
      "text/latex": [
       "A data.frame: 6 × 2\n",
       "\\begin{tabular}{r|ll}\n",
       "  & Date & Sales\\\\\n",
       "  & <date> & <dbl>\\\\\n",
       "\\hline\n",
       "\t1 & 2019-01-01 & 395.4318\\\\\n",
       "\t2 & 2019-01-02 & 243.1879\\\\\n",
       "\t3 & 2019-01-03 & 259.7661\\\\\n",
       "\t4 & 2019-01-04 & 270.6148\\\\\n",
       "\t5 & 2019-01-05 & 294.7236\\\\\n",
       "\t6 & 2019-01-06 & 401.5783\\\\\n",
       "\\end{tabular}\n"
      ],
      "text/markdown": [
       "\n",
       "A data.frame: 6 × 2\n",
       "\n",
       "| <!--/--> | Date &lt;date&gt; | Sales &lt;dbl&gt; |\n",
       "|---|---|---|\n",
       "| 1 | 2019-01-01 | 395.4318 |\n",
       "| 2 | 2019-01-02 | 243.1879 |\n",
       "| 3 | 2019-01-03 | 259.7661 |\n",
       "| 4 | 2019-01-04 | 270.6148 |\n",
       "| 5 | 2019-01-05 | 294.7236 |\n",
       "| 6 | 2019-01-06 | 401.5783 |\n",
       "\n"
      ],
      "text/plain": [
       "  Date       Sales   \n",
       "1 2019-01-01 395.4318\n",
       "2 2019-01-02 243.1879\n",
       "3 2019-01-03 259.7661\n",
       "4 2019-01-04 270.6148\n",
       "5 2019-01-05 294.7236\n",
       "6 2019-01-06 401.5783"
      ]
     },
     "metadata": {},
     "output_type": "display_data"
    }
   ],
   "source": [
    "# Since our data has many records per day, \n",
    "# We get the average per day, so that the data\n",
    "data = aggregate(Sales ~ Date, data, mean)\n",
    "head(data)"
   ]
  },
  {
   "cell_type": "code",
   "execution_count": 17,
   "metadata": {
    "ExecuteTime": {
     "end_time": "2020-03-23T13:23:24.228437Z",
     "start_time": "2020-03-23T13:23:24.164Z"
    },
    "scrolled": true
   },
   "outputs": [
    {
     "data": {
      "text/html": [
       "<style>\n",
       ".list-inline {list-style: none; margin:0; padding: 0}\n",
       ".list-inline>li {display: inline-block}\n",
       ".list-inline>li:not(:last-child)::after {content: \"\\00b7\"; padding: 0 .5ex}\n",
       "</style>\n",
       "<ol class=list-inline><li>'tbl_time'</li><li>'tbl_df'</li><li>'tbl'</li><li>'data.frame'</li></ol>\n"
      ],
      "text/latex": [
       "\\begin{enumerate*}\n",
       "\\item 'tbl\\_time'\n",
       "\\item 'tbl\\_df'\n",
       "\\item 'tbl'\n",
       "\\item 'data.frame'\n",
       "\\end{enumerate*}\n"
      ],
      "text/markdown": [
       "1. 'tbl_time'\n",
       "2. 'tbl_df'\n",
       "3. 'tbl'\n",
       "4. 'data.frame'\n",
       "\n",
       "\n"
      ],
      "text/plain": [
       "[1] \"tbl_time\"   \"tbl_df\"     \"tbl\"        \"data.frame\""
      ]
     },
     "metadata": {},
     "output_type": "display_data"
    }
   ],
   "source": [
    "# Converting data frame to a tibble time (tbl_time)\n",
    "# tbl_time have a time index that contains information about which column \n",
    "# should be used for time-based subsetting and other time-based manipulation,\n",
    "\n",
    "data = tbl_time(data, Date)\n",
    "class(data)"
   ]
  },
  {
   "cell_type": "code",
   "execution_count": 18,
   "metadata": {
    "ExecuteTime": {
     "end_time": "2020-03-23T13:23:39.158497Z",
     "start_time": "2020-03-23T13:23:38.926Z"
    }
   },
   "outputs": [
    {
     "data": {
      "text/html": [
       "<style>\n",
       ".list-inline {list-style: none; margin:0; padding: 0}\n",
       ".list-inline>li {display: inline-block}\n",
       ".list-inline>li:not(:last-child)::after {content: \"\\00b7\"; padding: 0 .5ex}\n",
       "</style>\n",
       "<ol class=list-inline><li>89</li><li>2</li></ol>\n"
      ],
      "text/latex": [
       "\\begin{enumerate*}\n",
       "\\item 89\n",
       "\\item 2\n",
       "\\end{enumerate*}\n"
      ],
      "text/markdown": [
       "1. 89\n",
       "2. 2\n",
       "\n",
       "\n"
      ],
      "text/plain": [
       "[1] 89  2"
      ]
     },
     "metadata": {},
     "output_type": "display_data"
    }
   ],
   "source": [
    "# Checking the dimensions of the reduced data set\n",
    "dim(data)"
   ]
  },
  {
   "cell_type": "markdown",
   "metadata": {},
   "source": [
    "Our data has reduced to 89 rows"
   ]
  },
  {
   "cell_type": "markdown",
   "metadata": {},
   "source": [
    "#### Detecting our anomalies\n",
    "We now use the following functions to detect and visualize anomalies; We decomposed the “count” column into “observed”, “season”, “trend”, and “remainder” columns. The default values for time series decompose are method = \"stl\", which is just seasonal decomposition using a Loess smoother (refer to stats::stl()). \n",
    "\n",
    "The frequency and trend parameters are automatically set based on the time scale (or periodicity) of the time series using tibbletime based function under the hood. time_decompose() - this function would help with time series decomposition.\n",
    "\n",
    "<b>anomalize()</b> - We perform anomaly detection on the decomposed data using the remainder column through the use of the anomalize() function which procides 3 new columns; “remainder_l1” (lower limit), “remainder_l2” (upper limit), and “anomaly” (Yes/No Flag).\n",
    "\n",
    "The default method is method = \"iqr\", which is fast and relatively accurate at detecting anomalies. The alpha parameter is by default set to alpha = 0.05, but can be adjusted to increase or decrease the height of the anomaly bands, making it more difficult or less difficult for data to be anomalous. The max_anoms parameter is by default set to a maximum of max_anoms = 0.2 for 20% of data that can be anomalous. \n",
    "\n",
    "<b>time_recompose()</b> - We create the lower and upper bounds around the “observed” values through the use of the time_recompose() function, which recomposes the lower and upper bounds of the anomalies around the observed values. We create new columns created: “recomposed_l1” (lower limit) and “recomposed_l2” (upper limit).\n",
    "\n",
    "<b>plot_anomalies()</b> - we now plot using plot_anomaly_decomposition() to visualize out data."
   ]
  },
  {
   "cell_type": "code",
   "execution_count": 20,
   "metadata": {
    "ExecuteTime": {
     "end_time": "2020-03-23T13:24:35.681354Z",
     "start_time": "2020-03-23T13:24:30.415Z"
    }
   },
   "outputs": [
    {
     "name": "stderr",
     "output_type": "stream",
     "text": [
      "frequency = 7 days\n",
      "trend = 30 days\n",
      "Registered S3 method overwritten by 'quantmod':\n",
      "  method            from\n",
      "  as.zoo.data.frame zoo \n"
     ]
    },
    {
     "data": {
      "image/png": "[encoded data removed]",
      "text/plain": [
       "plot without title"
      ]
     },
     "metadata": {},
     "output_type": "display_data"
    }
   ],
   "source": [
    "data %>%\n",
    "    time_decompose(Sales) %>%\n",
    "    anomalize(remainder) %>%\n",
    "    time_recompose() %>%\n",
    "    plot_anomalies(time_recomposed = TRUE, ncol = 3, alpha_dots = 0.5)"
   ]
  },
  {
   "cell_type": "markdown",
   "metadata": {
    "ExecuteTime": {
     "end_time": "2020-03-16T21:00:41.439222Z",
     "start_time": "2020-03-16T21:00:28.447Z"
    }
   },
   "source": [
    "Our data has no anomaly"
   ]
  }
 ],
 "metadata": {
  "kernelspec": {
   "display_name": "R",
   "language": "R",
   "name": "ir"
  },
  "language_info": {
   "codemirror_mode": "r",
   "file_extension": ".r",
   "mimetype": "text/x-r-source",
   "name": "R",
   "pygments_lexer": "r",
   "version": "3.6.2"
  },
  "toc": {
   "base_numbering": 1,
   "nav_menu": {},
   "number_sections": true,
   "sideBar": true,
   "skip_h1_title": false,
   "title_cell": "Table of Contents",
   "title_sidebar": "Contents",
   "toc_cell": false,
   "toc_position": {},
   "toc_section_display": true,
   "toc_window_display": false
  }
 },
 "nbformat": 4,
 "nbformat_minor": 4
}
