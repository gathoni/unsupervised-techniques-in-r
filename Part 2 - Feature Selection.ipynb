{
 "cells": [
  {
   "cell_type": "markdown",
   "metadata": {},
   "source": [
    "### Context\n",
    "\n",
    "You are a Data analyst at Carrefour Kenya and are currently undertaking a project that will inform the marketing department on the most relevant marketing strategies that will result in the highest no. of sales (total price including tax). Your project has been divided into three parts where you'll explore a recent marketing dataset by performing various unsupervised learning techniques and later providing recommendations based on your insights.\n",
    "\n",
    "### Feature Selection\n",
    "\n",
    "This section requires you to perform feature selection through the use of the unsupervised learning methods learned earlier this week. You will be required to perform your analysis and provide insights on the features that contribute the most information to the dataset."
   ]
  },
  {
   "cell_type": "markdown",
   "metadata": {},
   "source": [
    "#### Load Dataset"
   ]
  },
  {
   "cell_type": "code",
   "execution_count": 5,
   "metadata": {
    "ExecuteTime": {
     "end_time": "2020-03-16T17:28:17.505728Z",
     "start_time": "2020-03-16T17:28:16.815Z"
    }
   },
   "outputs": [
    {
     "data": {
      "text/html": [
       "<table>\n",
       "<caption>A data.frame: 6 × 16</caption>\n",
       "<thead>\n",
       "\t<tr><th></th><th scope=col>Invoice.ID</th><th scope=col>Branch</th><th scope=col>Customer.type</th><th scope=col>Gender</th><th scope=col>Product.line</th><th scope=col>Unit.price</th><th scope=col>Quantity</th><th scope=col>Tax</th><th scope=col>Date</th><th scope=col>Time</th><th scope=col>Payment</th><th scope=col>cogs</th><th scope=col>gross.margin.percentage</th><th scope=col>gross.income</th><th scope=col>Rating</th><th scope=col>Total</th></tr>\n",
       "\t<tr><th></th><th scope=col>&lt;fct&gt;</th><th scope=col>&lt;fct&gt;</th><th scope=col>&lt;fct&gt;</th><th scope=col>&lt;fct&gt;</th><th scope=col>&lt;fct&gt;</th><th scope=col>&lt;dbl&gt;</th><th scope=col>&lt;int&gt;</th><th scope=col>&lt;dbl&gt;</th><th scope=col>&lt;fct&gt;</th><th scope=col>&lt;fct&gt;</th><th scope=col>&lt;fct&gt;</th><th scope=col>&lt;dbl&gt;</th><th scope=col>&lt;dbl&gt;</th><th scope=col>&lt;dbl&gt;</th><th scope=col>&lt;dbl&gt;</th><th scope=col>&lt;dbl&gt;</th></tr>\n",
       "</thead>\n",
       "<tbody>\n",
       "\t<tr><th scope=row>1</th><td>750-67-8428</td><td>A</td><td>Member</td><td>Female</td><td>Health and beauty     </td><td>74.69</td><td>7</td><td>26.1415</td><td>1/5/2019 </td><td>13:08</td><td>Ewallet    </td><td>522.83</td><td>4.761905</td><td>26.1415</td><td>9.1</td><td>548.9715</td></tr>\n",
       "\t<tr><th scope=row>2</th><td>226-31-3081</td><td>C</td><td>Normal</td><td>Female</td><td>Electronic accessories</td><td>15.28</td><td>5</td><td> 3.8200</td><td>3/8/2019 </td><td>10:29</td><td>Cash       </td><td> 76.40</td><td>4.761905</td><td> 3.8200</td><td>9.6</td><td> 80.2200</td></tr>\n",
       "\t<tr><th scope=row>3</th><td>631-41-3108</td><td>A</td><td>Normal</td><td>Male  </td><td>Home and lifestyle    </td><td>46.33</td><td>7</td><td>16.2155</td><td>3/3/2019 </td><td>13:23</td><td>Credit card</td><td>324.31</td><td>4.761905</td><td>16.2155</td><td>7.4</td><td>340.5255</td></tr>\n",
       "\t<tr><th scope=row>4</th><td>123-19-1176</td><td>A</td><td>Member</td><td>Male  </td><td>Health and beauty     </td><td>58.22</td><td>8</td><td>23.2880</td><td>1/27/2019</td><td>20:33</td><td>Ewallet    </td><td>465.76</td><td>4.761905</td><td>23.2880</td><td>8.4</td><td>489.0480</td></tr>\n",
       "\t<tr><th scope=row>5</th><td>373-73-7910</td><td>A</td><td>Normal</td><td>Male  </td><td>Sports and travel     </td><td>86.31</td><td>7</td><td>30.2085</td><td>2/8/2019 </td><td>10:37</td><td>Ewallet    </td><td>604.17</td><td>4.761905</td><td>30.2085</td><td>5.3</td><td>634.3785</td></tr>\n",
       "\t<tr><th scope=row>6</th><td>699-14-3026</td><td>C</td><td>Normal</td><td>Male  </td><td>Electronic accessories</td><td>85.39</td><td>7</td><td>29.8865</td><td>3/25/2019</td><td>18:30</td><td>Ewallet    </td><td>597.73</td><td>4.761905</td><td>29.8865</td><td>4.1</td><td>627.6165</td></tr>\n",
       "</tbody>\n",
       "</table>\n"
      ],
      "text/latex": [
       "A data.frame: 6 × 16\n",
       "\\begin{tabular}{r|llllllllllllllll}\n",
       "  & Invoice.ID & Branch & Customer.type & Gender & Product.line & Unit.price & Quantity & Tax & Date & Time & Payment & cogs & gross.margin.percentage & gross.income & Rating & Total\\\\\n",
       "  & <fct> & <fct> & <fct> & <fct> & <fct> & <dbl> & <int> & <dbl> & <fct> & <fct> & <fct> & <dbl> & <dbl> & <dbl> & <dbl> & <dbl>\\\\\n",
       "\\hline\n",
       "\t1 & 750-67-8428 & A & Member & Female & Health and beauty      & 74.69 & 7 & 26.1415 & 1/5/2019  & 13:08 & Ewallet     & 522.83 & 4.761905 & 26.1415 & 9.1 & 548.9715\\\\\n",
       "\t2 & 226-31-3081 & C & Normal & Female & Electronic accessories & 15.28 & 5 &  3.8200 & 3/8/2019  & 10:29 & Cash        &  76.40 & 4.761905 &  3.8200 & 9.6 &  80.2200\\\\\n",
       "\t3 & 631-41-3108 & A & Normal & Male   & Home and lifestyle     & 46.33 & 7 & 16.2155 & 3/3/2019  & 13:23 & Credit card & 324.31 & 4.761905 & 16.2155 & 7.4 & 340.5255\\\\\n",
       "\t4 & 123-19-1176 & A & Member & Male   & Health and beauty      & 58.22 & 8 & 23.2880 & 1/27/2019 & 20:33 & Ewallet     & 465.76 & 4.761905 & 23.2880 & 8.4 & 489.0480\\\\\n",
       "\t5 & 373-73-7910 & A & Normal & Male   & Sports and travel      & 86.31 & 7 & 30.2085 & 2/8/2019  & 10:37 & Ewallet     & 604.17 & 4.761905 & 30.2085 & 5.3 & 634.3785\\\\\n",
       "\t6 & 699-14-3026 & C & Normal & Male   & Electronic accessories & 85.39 & 7 & 29.8865 & 3/25/2019 & 18:30 & Ewallet     & 597.73 & 4.761905 & 29.8865 & 4.1 & 627.6165\\\\\n",
       "\\end{tabular}\n"
      ],
      "text/markdown": [
       "\n",
       "A data.frame: 6 × 16\n",
       "\n",
       "| <!--/--> | Invoice.ID &lt;fct&gt; | Branch &lt;fct&gt; | Customer.type &lt;fct&gt; | Gender &lt;fct&gt; | Product.line &lt;fct&gt; | Unit.price &lt;dbl&gt; | Quantity &lt;int&gt; | Tax &lt;dbl&gt; | Date &lt;fct&gt; | Time &lt;fct&gt; | Payment &lt;fct&gt; | cogs &lt;dbl&gt; | gross.margin.percentage &lt;dbl&gt; | gross.income &lt;dbl&gt; | Rating &lt;dbl&gt; | Total &lt;dbl&gt; |\n",
       "|---|---|---|---|---|---|---|---|---|---|---|---|---|---|---|---|---|\n",
       "| 1 | 750-67-8428 | A | Member | Female | Health and beauty      | 74.69 | 7 | 26.1415 | 1/5/2019  | 13:08 | Ewallet     | 522.83 | 4.761905 | 26.1415 | 9.1 | 548.9715 |\n",
       "| 2 | 226-31-3081 | C | Normal | Female | Electronic accessories | 15.28 | 5 |  3.8200 | 3/8/2019  | 10:29 | Cash        |  76.40 | 4.761905 |  3.8200 | 9.6 |  80.2200 |\n",
       "| 3 | 631-41-3108 | A | Normal | Male   | Home and lifestyle     | 46.33 | 7 | 16.2155 | 3/3/2019  | 13:23 | Credit card | 324.31 | 4.761905 | 16.2155 | 7.4 | 340.5255 |\n",
       "| 4 | 123-19-1176 | A | Member | Male   | Health and beauty      | 58.22 | 8 | 23.2880 | 1/27/2019 | 20:33 | Ewallet     | 465.76 | 4.761905 | 23.2880 | 8.4 | 489.0480 |\n",
       "| 5 | 373-73-7910 | A | Normal | Male   | Sports and travel      | 86.31 | 7 | 30.2085 | 2/8/2019  | 10:37 | Ewallet     | 604.17 | 4.761905 | 30.2085 | 5.3 | 634.3785 |\n",
       "| 6 | 699-14-3026 | C | Normal | Male   | Electronic accessories | 85.39 | 7 | 29.8865 | 3/25/2019 | 18:30 | Ewallet     | 597.73 | 4.761905 | 29.8865 | 4.1 | 627.6165 |\n",
       "\n"
      ],
      "text/plain": [
       "  Invoice.ID  Branch Customer.type Gender Product.line           Unit.price\n",
       "1 750-67-8428 A      Member        Female Health and beauty      74.69     \n",
       "2 226-31-3081 C      Normal        Female Electronic accessories 15.28     \n",
       "3 631-41-3108 A      Normal        Male   Home and lifestyle     46.33     \n",
       "4 123-19-1176 A      Member        Male   Health and beauty      58.22     \n",
       "5 373-73-7910 A      Normal        Male   Sports and travel      86.31     \n",
       "6 699-14-3026 C      Normal        Male   Electronic accessories 85.39     \n",
       "  Quantity Tax     Date      Time  Payment     cogs   gross.margin.percentage\n",
       "1 7        26.1415 1/5/2019  13:08 Ewallet     522.83 4.761905               \n",
       "2 5         3.8200 3/8/2019  10:29 Cash         76.40 4.761905               \n",
       "3 7        16.2155 3/3/2019  13:23 Credit card 324.31 4.761905               \n",
       "4 8        23.2880 1/27/2019 20:33 Ewallet     465.76 4.761905               \n",
       "5 7        30.2085 2/8/2019  10:37 Ewallet     604.17 4.761905               \n",
       "6 7        29.8865 3/25/2019 18:30 Ewallet     597.73 4.761905               \n",
       "  gross.income Rating Total   \n",
       "1 26.1415      9.1    548.9715\n",
       "2  3.8200      9.6     80.2200\n",
       "3 16.2155      7.4    340.5255\n",
       "4 23.2880      8.4    489.0480\n",
       "5 30.2085      5.3    634.3785\n",
       "6 29.8865      4.1    627.6165"
      ]
     },
     "metadata": {},
     "output_type": "display_data"
    }
   ],
   "source": [
    "super <- read.csv(\"Supermarket - Sales Data.csv\")\n",
    "head(super)"
   ]
  },
  {
   "cell_type": "markdown",
   "metadata": {},
   "source": [
    "#### Explore the dataset"
   ]
  },
  {
   "cell_type": "code",
   "execution_count": 6,
   "metadata": {
    "ExecuteTime": {
     "end_time": "2020-03-16T17:28:17.624660Z",
     "start_time": "2020-03-16T17:28:17.052Z"
    }
   },
   "outputs": [
    {
     "data": {
      "text/plain": [
       "       Invoice.ID  Branch  Customer.type    Gender   \n",
       " 101-17-6199:  1   A:340   Member:501    Female:501  \n",
       " 101-81-4070:  1   B:332   Normal:499    Male  :499  \n",
       " 102-06-2002:  1   C:328                             \n",
       " 102-77-2261:  1                                     \n",
       " 105-10-6182:  1                                     \n",
       " 105-31-1824:  1                                     \n",
       " (Other)    :994                                     \n",
       "                 Product.line   Unit.price       Quantity          Tax         \n",
       " Electronic accessories:170   Min.   :10.08   Min.   : 1.00   Min.   : 0.5085  \n",
       " Fashion accessories   :178   1st Qu.:32.88   1st Qu.: 3.00   1st Qu.: 5.9249  \n",
       " Food and beverages    :174   Median :55.23   Median : 5.00   Median :12.0880  \n",
       " Health and beauty     :152   Mean   :55.67   Mean   : 5.51   Mean   :15.3794  \n",
       " Home and lifestyle    :160   3rd Qu.:77.94   3rd Qu.: 8.00   3rd Qu.:22.4453  \n",
       " Sports and travel     :166   Max.   :99.96   Max.   :10.00   Max.   :49.6500  \n",
       "                                                                               \n",
       "        Date          Time            Payment         cogs       \n",
       " 2/7/2019 : 20   14:42  :  7   Cash       :344   Min.   : 10.17  \n",
       " 2/15/2019: 19   19:48  :  7   Credit card:311   1st Qu.:118.50  \n",
       " 1/8/2019 : 18   17:38  :  6   Ewallet    :345   Median :241.76  \n",
       " 3/14/2019: 18   10:11  :  5                     Mean   :307.59  \n",
       " 3/2/2019 : 18   11:40  :  5                     3rd Qu.:448.90  \n",
       " 1/23/2019: 17   11:51  :  5                     Max.   :993.00  \n",
       " (Other)  :890   (Other):965                                     \n",
       " gross.margin.percentage  gross.income         Rating           Total        \n",
       " Min.   :4.762           Min.   : 0.5085   Min.   : 4.000   Min.   :  10.68  \n",
       " 1st Qu.:4.762           1st Qu.: 5.9249   1st Qu.: 5.500   1st Qu.: 124.42  \n",
       " Median :4.762           Median :12.0880   Median : 7.000   Median : 253.85  \n",
       " Mean   :4.762           Mean   :15.3794   Mean   : 6.973   Mean   : 322.97  \n",
       " 3rd Qu.:4.762           3rd Qu.:22.4453   3rd Qu.: 8.500   3rd Qu.: 471.35  \n",
       " Max.   :4.762           Max.   :49.6500   Max.   :10.000   Max.   :1042.65  \n",
       "                                                                             "
      ]
     },
     "metadata": {},
     "output_type": "display_data"
    }
   ],
   "source": [
    "# Summary\n",
    "summary(super)"
   ]
  },
  {
   "cell_type": "code",
   "execution_count": 7,
   "metadata": {
    "ExecuteTime": {
     "end_time": "2020-03-16T17:28:17.707611Z",
     "start_time": "2020-03-16T17:28:17.059Z"
    }
   },
   "outputs": [
    {
     "name": "stdout",
     "output_type": "stream",
     "text": [
      "'data.frame':\t1000 obs. of  16 variables:\n",
      " $ Invoice.ID             : Factor w/ 1000 levels \"101-17-6199\",..: 815 143 654 19 340 734 316 265 703 727 ...\n",
      " $ Branch                 : Factor w/ 3 levels \"A\",\"B\",\"C\": 1 3 1 1 1 3 1 3 1 2 ...\n",
      " $ Customer.type          : Factor w/ 2 levels \"Member\",\"Normal\": 1 2 2 1 2 2 1 2 1 1 ...\n",
      " $ Gender                 : Factor w/ 2 levels \"Female\",\"Male\": 1 1 2 2 2 2 1 1 1 1 ...\n",
      " $ Product.line           : Factor w/ 6 levels \"Electronic accessories\",..: 4 1 5 4 6 1 1 5 4 3 ...\n",
      " $ Unit.price             : num  74.7 15.3 46.3 58.2 86.3 ...\n",
      " $ Quantity               : int  7 5 7 8 7 7 6 10 2 3 ...\n",
      " $ Tax                    : num  26.14 3.82 16.22 23.29 30.21 ...\n",
      " $ Date                   : Factor w/ 89 levels \"1/1/2019\",\"1/10/2019\",..: 27 88 82 20 58 77 49 48 2 44 ...\n",
      " $ Time                   : Factor w/ 506 levels \"10:00\",\"10:01\",..: 147 24 156 486 30 394 215 78 342 160 ...\n",
      " $ Payment                : Factor w/ 3 levels \"Cash\",\"Credit card\",..: 3 1 2 3 3 3 3 3 2 2 ...\n",
      " $ cogs                   : num  522.8 76.4 324.3 465.8 604.2 ...\n",
      " $ gross.margin.percentage: num  4.76 4.76 4.76 4.76 4.76 ...\n",
      " $ gross.income           : num  26.14 3.82 16.22 23.29 30.21 ...\n",
      " $ Rating                 : num  9.1 9.6 7.4 8.4 5.3 4.1 5.8 8 7.2 5.9 ...\n",
      " $ Total                  : num  549 80.2 340.5 489 634.4 ...\n"
     ]
    }
   ],
   "source": [
    "# Structure of the dataset\n",
    "str(super)"
   ]
  },
  {
   "cell_type": "code",
   "execution_count": 8,
   "metadata": {
    "ExecuteTime": {
     "end_time": "2020-03-16T17:28:17.769575Z",
     "start_time": "2020-03-16T17:28:17.065Z"
    }
   },
   "outputs": [
    {
     "data": {
      "text/html": [
       "<style>\n",
       ".list-inline {list-style: none; margin:0; padding: 0}\n",
       ".list-inline>li {display: inline-block}\n",
       ".list-inline>li:not(:last-child)::after {content: \"\\00b7\"; padding: 0 .5ex}\n",
       "</style>\n",
       "<ol class=list-inline><li>1000</li><li>16</li></ol>\n"
      ],
      "text/latex": [
       "\\begin{enumerate*}\n",
       "\\item 1000\n",
       "\\item 16\n",
       "\\end{enumerate*}\n"
      ],
      "text/markdown": [
       "1. 1000\n",
       "2. 16\n",
       "\n",
       "\n"
      ],
      "text/plain": [
       "[1] 1000   16"
      ]
     },
     "metadata": {},
     "output_type": "display_data"
    }
   ],
   "source": [
    "# Dimension of the dataset\n",
    "dim(super)"
   ]
  },
  {
   "cell_type": "code",
   "execution_count": 9,
   "metadata": {
    "ExecuteTime": {
     "end_time": "2020-03-16T17:28:17.833539Z",
     "start_time": "2020-03-16T17:28:17.071Z"
    }
   },
   "outputs": [],
   "source": [
    "# Change datatypes to the correct ones:\n",
    "\n",
    "# To Numeric datatype\n",
    "g = c('Branch', 'Gender','Customer.type', 'Product.line', 'Payment')\n",
    "for (i in g){\n",
    "    super[,i] = as.numeric(super[,i])\n",
    "}"
   ]
  },
  {
   "cell_type": "code",
   "execution_count": 10,
   "metadata": {
    "ExecuteTime": {
     "end_time": "2020-03-16T17:28:20.412061Z",
     "start_time": "2020-03-16T17:28:17.076Z"
    },
    "scrolled": true
   },
   "outputs": [
    {
     "name": "stderr",
     "output_type": "stream",
     "text": [
      "\n",
      "Attaching package: 'dplyr'\n",
      "\n",
      "The following objects are masked from 'package:stats':\n",
      "\n",
      "    filter, lag\n",
      "\n",
      "The following objects are masked from 'package:base':\n",
      "\n",
      "    intersect, setdiff, setequal, union\n",
      "\n"
     ]
    }
   ],
   "source": [
    "# Add a column for total sales\n",
    "library(dplyr)\n",
    "super <- super %>% mutate(Sales = Tax+Total)"
   ]
  },
  {
   "cell_type": "code",
   "execution_count": 11,
   "metadata": {
    "ExecuteTime": {
     "end_time": "2020-03-16T17:28:20.508003Z",
     "start_time": "2020-03-16T17:28:17.083Z"
    }
   },
   "outputs": [
    {
     "data": {
      "text/html": [
       "<table>\n",
       "<caption>A data.frame: 6 × 17</caption>\n",
       "<thead>\n",
       "\t<tr><th></th><th scope=col>Invoice.ID</th><th scope=col>Branch</th><th scope=col>Customer.type</th><th scope=col>Gender</th><th scope=col>Product.line</th><th scope=col>Unit.price</th><th scope=col>Quantity</th><th scope=col>Tax</th><th scope=col>Date</th><th scope=col>Time</th><th scope=col>Payment</th><th scope=col>cogs</th><th scope=col>gross.margin.percentage</th><th scope=col>gross.income</th><th scope=col>Rating</th><th scope=col>Total</th><th scope=col>Sales</th></tr>\n",
       "\t<tr><th></th><th scope=col>&lt;fct&gt;</th><th scope=col>&lt;dbl&gt;</th><th scope=col>&lt;dbl&gt;</th><th scope=col>&lt;dbl&gt;</th><th scope=col>&lt;dbl&gt;</th><th scope=col>&lt;dbl&gt;</th><th scope=col>&lt;int&gt;</th><th scope=col>&lt;dbl&gt;</th><th scope=col>&lt;fct&gt;</th><th scope=col>&lt;fct&gt;</th><th scope=col>&lt;dbl&gt;</th><th scope=col>&lt;dbl&gt;</th><th scope=col>&lt;dbl&gt;</th><th scope=col>&lt;dbl&gt;</th><th scope=col>&lt;dbl&gt;</th><th scope=col>&lt;dbl&gt;</th><th scope=col>&lt;dbl&gt;</th></tr>\n",
       "</thead>\n",
       "<tbody>\n",
       "\t<tr><th scope=row>1</th><td>750-67-8428</td><td>1</td><td>1</td><td>1</td><td>4</td><td>74.69</td><td>7</td><td>26.1415</td><td>1/5/2019 </td><td>13:08</td><td>3</td><td>522.83</td><td>4.761905</td><td>26.1415</td><td>9.1</td><td>548.9715</td><td>575.113</td></tr>\n",
       "\t<tr><th scope=row>2</th><td>226-31-3081</td><td>3</td><td>2</td><td>1</td><td>1</td><td>15.28</td><td>5</td><td> 3.8200</td><td>3/8/2019 </td><td>10:29</td><td>1</td><td> 76.40</td><td>4.761905</td><td> 3.8200</td><td>9.6</td><td> 80.2200</td><td> 84.040</td></tr>\n",
       "\t<tr><th scope=row>3</th><td>631-41-3108</td><td>1</td><td>2</td><td>2</td><td>5</td><td>46.33</td><td>7</td><td>16.2155</td><td>3/3/2019 </td><td>13:23</td><td>2</td><td>324.31</td><td>4.761905</td><td>16.2155</td><td>7.4</td><td>340.5255</td><td>356.741</td></tr>\n",
       "\t<tr><th scope=row>4</th><td>123-19-1176</td><td>1</td><td>1</td><td>2</td><td>4</td><td>58.22</td><td>8</td><td>23.2880</td><td>1/27/2019</td><td>20:33</td><td>3</td><td>465.76</td><td>4.761905</td><td>23.2880</td><td>8.4</td><td>489.0480</td><td>512.336</td></tr>\n",
       "\t<tr><th scope=row>5</th><td>373-73-7910</td><td>1</td><td>2</td><td>2</td><td>6</td><td>86.31</td><td>7</td><td>30.2085</td><td>2/8/2019 </td><td>10:37</td><td>3</td><td>604.17</td><td>4.761905</td><td>30.2085</td><td>5.3</td><td>634.3785</td><td>664.587</td></tr>\n",
       "\t<tr><th scope=row>6</th><td>699-14-3026</td><td>3</td><td>2</td><td>2</td><td>1</td><td>85.39</td><td>7</td><td>29.8865</td><td>3/25/2019</td><td>18:30</td><td>3</td><td>597.73</td><td>4.761905</td><td>29.8865</td><td>4.1</td><td>627.6165</td><td>657.503</td></tr>\n",
       "</tbody>\n",
       "</table>\n"
      ],
      "text/latex": [
       "A data.frame: 6 × 17\n",
       "\\begin{tabular}{r|lllllllllllllllll}\n",
       "  & Invoice.ID & Branch & Customer.type & Gender & Product.line & Unit.price & Quantity & Tax & Date & Time & Payment & cogs & gross.margin.percentage & gross.income & Rating & Total & Sales\\\\\n",
       "  & <fct> & <dbl> & <dbl> & <dbl> & <dbl> & <dbl> & <int> & <dbl> & <fct> & <fct> & <dbl> & <dbl> & <dbl> & <dbl> & <dbl> & <dbl> & <dbl>\\\\\n",
       "\\hline\n",
       "\t1 & 750-67-8428 & 1 & 1 & 1 & 4 & 74.69 & 7 & 26.1415 & 1/5/2019  & 13:08 & 3 & 522.83 & 4.761905 & 26.1415 & 9.1 & 548.9715 & 575.113\\\\\n",
       "\t2 & 226-31-3081 & 3 & 2 & 1 & 1 & 15.28 & 5 &  3.8200 & 3/8/2019  & 10:29 & 1 &  76.40 & 4.761905 &  3.8200 & 9.6 &  80.2200 &  84.040\\\\\n",
       "\t3 & 631-41-3108 & 1 & 2 & 2 & 5 & 46.33 & 7 & 16.2155 & 3/3/2019  & 13:23 & 2 & 324.31 & 4.761905 & 16.2155 & 7.4 & 340.5255 & 356.741\\\\\n",
       "\t4 & 123-19-1176 & 1 & 1 & 2 & 4 & 58.22 & 8 & 23.2880 & 1/27/2019 & 20:33 & 3 & 465.76 & 4.761905 & 23.2880 & 8.4 & 489.0480 & 512.336\\\\\n",
       "\t5 & 373-73-7910 & 1 & 2 & 2 & 6 & 86.31 & 7 & 30.2085 & 2/8/2019  & 10:37 & 3 & 604.17 & 4.761905 & 30.2085 & 5.3 & 634.3785 & 664.587\\\\\n",
       "\t6 & 699-14-3026 & 3 & 2 & 2 & 1 & 85.39 & 7 & 29.8865 & 3/25/2019 & 18:30 & 3 & 597.73 & 4.761905 & 29.8865 & 4.1 & 627.6165 & 657.503\\\\\n",
       "\\end{tabular}\n"
      ],
      "text/markdown": [
       "\n",
       "A data.frame: 6 × 17\n",
       "\n",
       "| <!--/--> | Invoice.ID &lt;fct&gt; | Branch &lt;dbl&gt; | Customer.type &lt;dbl&gt; | Gender &lt;dbl&gt; | Product.line &lt;dbl&gt; | Unit.price &lt;dbl&gt; | Quantity &lt;int&gt; | Tax &lt;dbl&gt; | Date &lt;fct&gt; | Time &lt;fct&gt; | Payment &lt;dbl&gt; | cogs &lt;dbl&gt; | gross.margin.percentage &lt;dbl&gt; | gross.income &lt;dbl&gt; | Rating &lt;dbl&gt; | Total &lt;dbl&gt; | Sales &lt;dbl&gt; |\n",
       "|---|---|---|---|---|---|---|---|---|---|---|---|---|---|---|---|---|---|\n",
       "| 1 | 750-67-8428 | 1 | 1 | 1 | 4 | 74.69 | 7 | 26.1415 | 1/5/2019  | 13:08 | 3 | 522.83 | 4.761905 | 26.1415 | 9.1 | 548.9715 | 575.113 |\n",
       "| 2 | 226-31-3081 | 3 | 2 | 1 | 1 | 15.28 | 5 |  3.8200 | 3/8/2019  | 10:29 | 1 |  76.40 | 4.761905 |  3.8200 | 9.6 |  80.2200 |  84.040 |\n",
       "| 3 | 631-41-3108 | 1 | 2 | 2 | 5 | 46.33 | 7 | 16.2155 | 3/3/2019  | 13:23 | 2 | 324.31 | 4.761905 | 16.2155 | 7.4 | 340.5255 | 356.741 |\n",
       "| 4 | 123-19-1176 | 1 | 1 | 2 | 4 | 58.22 | 8 | 23.2880 | 1/27/2019 | 20:33 | 3 | 465.76 | 4.761905 | 23.2880 | 8.4 | 489.0480 | 512.336 |\n",
       "| 5 | 373-73-7910 | 1 | 2 | 2 | 6 | 86.31 | 7 | 30.2085 | 2/8/2019  | 10:37 | 3 | 604.17 | 4.761905 | 30.2085 | 5.3 | 634.3785 | 664.587 |\n",
       "| 6 | 699-14-3026 | 3 | 2 | 2 | 1 | 85.39 | 7 | 29.8865 | 3/25/2019 | 18:30 | 3 | 597.73 | 4.761905 | 29.8865 | 4.1 | 627.6165 | 657.503 |\n",
       "\n"
      ],
      "text/plain": [
       "  Invoice.ID  Branch Customer.type Gender Product.line Unit.price Quantity\n",
       "1 750-67-8428 1      1             1      4            74.69      7       \n",
       "2 226-31-3081 3      2             1      1            15.28      5       \n",
       "3 631-41-3108 1      2             2      5            46.33      7       \n",
       "4 123-19-1176 1      1             2      4            58.22      8       \n",
       "5 373-73-7910 1      2             2      6            86.31      7       \n",
       "6 699-14-3026 3      2             2      1            85.39      7       \n",
       "  Tax     Date      Time  Payment cogs   gross.margin.percentage gross.income\n",
       "1 26.1415 1/5/2019  13:08 3       522.83 4.761905                26.1415     \n",
       "2  3.8200 3/8/2019  10:29 1        76.40 4.761905                 3.8200     \n",
       "3 16.2155 3/3/2019  13:23 2       324.31 4.761905                16.2155     \n",
       "4 23.2880 1/27/2019 20:33 3       465.76 4.761905                23.2880     \n",
       "5 30.2085 2/8/2019  10:37 3       604.17 4.761905                30.2085     \n",
       "6 29.8865 3/25/2019 18:30 3       597.73 4.761905                29.8865     \n",
       "  Rating Total    Sales  \n",
       "1 9.1    548.9715 575.113\n",
       "2 9.6     80.2200  84.040\n",
       "3 7.4    340.5255 356.741\n",
       "4 8.4    489.0480 512.336\n",
       "5 5.3    634.3785 664.587\n",
       "6 4.1    627.6165 657.503"
      ]
     },
     "metadata": {},
     "output_type": "display_data"
    }
   ],
   "source": [
    "head(super)"
   ]
  },
  {
   "cell_type": "code",
   "execution_count": 12,
   "metadata": {
    "ExecuteTime": {
     "end_time": "2020-03-16T17:28:20.550981Z",
     "start_time": "2020-03-16T17:28:17.088Z"
    }
   },
   "outputs": [],
   "source": [
    "# Drop columns that are not necessary\n",
    "# Data <- subset( Data, select = -c(d, b ) )\n",
    "\n",
    "super <- subset( super, select = -c(Invoice.ID, Date, Time ) )"
   ]
  },
  {
   "cell_type": "code",
   "execution_count": 13,
   "metadata": {
    "ExecuteTime": {
     "end_time": "2020-03-16T17:28:20.614942Z",
     "start_time": "2020-03-16T17:28:17.095Z"
    }
   },
   "outputs": [
    {
     "data": {
      "text/html": [
       "<style>\n",
       ".list-inline {list-style: none; margin:0; padding: 0}\n",
       ".list-inline>li {display: inline-block}\n",
       ".list-inline>li:not(:last-child)::after {content: \"\\00b7\"; padding: 0 .5ex}\n",
       "</style>\n",
       "<ol class=list-inline><li>'Branch'</li><li>'Customer.type'</li><li>'Gender'</li><li>'Product.line'</li><li>'Unit.price'</li><li>'Quantity'</li><li>'Tax'</li><li>'Payment'</li><li>'cogs'</li><li>'gross.margin.percentage'</li><li>'gross.income'</li><li>'Rating'</li><li>'Total'</li><li>'Sales'</li></ol>\n"
      ],
      "text/latex": [
       "\\begin{enumerate*}\n",
       "\\item 'Branch'\n",
       "\\item 'Customer.type'\n",
       "\\item 'Gender'\n",
       "\\item 'Product.line'\n",
       "\\item 'Unit.price'\n",
       "\\item 'Quantity'\n",
       "\\item 'Tax'\n",
       "\\item 'Payment'\n",
       "\\item 'cogs'\n",
       "\\item 'gross.margin.percentage'\n",
       "\\item 'gross.income'\n",
       "\\item 'Rating'\n",
       "\\item 'Total'\n",
       "\\item 'Sales'\n",
       "\\end{enumerate*}\n"
      ],
      "text/markdown": [
       "1. 'Branch'\n",
       "2. 'Customer.type'\n",
       "3. 'Gender'\n",
       "4. 'Product.line'\n",
       "5. 'Unit.price'\n",
       "6. 'Quantity'\n",
       "7. 'Tax'\n",
       "8. 'Payment'\n",
       "9. 'cogs'\n",
       "10. 'gross.margin.percentage'\n",
       "11. 'gross.income'\n",
       "12. 'Rating'\n",
       "13. 'Total'\n",
       "14. 'Sales'\n",
       "\n",
       "\n"
      ],
      "text/plain": [
       " [1] \"Branch\"                  \"Customer.type\"          \n",
       " [3] \"Gender\"                  \"Product.line\"           \n",
       " [5] \"Unit.price\"              \"Quantity\"               \n",
       " [7] \"Tax\"                     \"Payment\"                \n",
       " [9] \"cogs\"                    \"gross.margin.percentage\"\n",
       "[11] \"gross.income\"            \"Rating\"                 \n",
       "[13] \"Total\"                   \"Sales\"                  "
      ]
     },
     "metadata": {},
     "output_type": "display_data"
    }
   ],
   "source": [
    "names(super)"
   ]
  },
  {
   "cell_type": "markdown",
   "metadata": {},
   "source": [
    "#### Feature Selection\n",
    "\n",
    "By definition, feature selection (or variable selection attribute selection) is the process done before model construction where a subset of relevant features are selected. The process reduces the no. of features in a dataset by excluding or including them without any change as opposed to dimensionality reduction methods which do so by creating new combinations of features. \n",
    "\n",
    "The main objective of feature selection is to create an accurate predictive model by selecting features that would give us a better accuracy while requiring less data. In turn, irrelevant and redundant attributes would be removed resulting to a set that is less complex to work with and understand. \n",
    "\n",
    "##### Using Filter Method"
   ]
  },
  {
   "cell_type": "code",
   "execution_count": 14,
   "metadata": {
    "ExecuteTime": {
     "end_time": "2020-03-16T17:28:31.653247Z",
     "start_time": "2020-03-16T17:28:17.442Z"
    }
   },
   "outputs": [
    {
     "name": "stderr",
     "output_type": "stream",
     "text": [
      "Warning message:\n",
      "\"package 'caret' was built under R version 3.6.3\"Loading required package: lattice\n",
      "Warning message:\n",
      "\"package 'lattice' was built under R version 3.6.3\"Loading required package: ggplot2\n"
     ]
    }
   ],
   "source": [
    "# Installing and loading our caret package\n",
    "# \n",
    "# suppressWarnings(\n",
    "#         suppressMessages(if\n",
    "#                          (!require(caret, quietly=TRUE))\n",
    "#                 install.packages(\"caret\")))\n",
    "library(caret)"
   ]
  },
  {
   "cell_type": "code",
   "execution_count": 15,
   "metadata": {
    "ExecuteTime": {
     "end_time": "2020-03-16T17:28:32.464782Z",
     "start_time": "2020-03-16T17:28:17.448Z"
    }
   },
   "outputs": [
    {
     "name": "stderr",
     "output_type": "stream",
     "text": [
      "Warning message:\n",
      "\"package 'corrplot' was built under R version 3.6.3\"corrplot 0.84 loaded\n"
     ]
    }
   ],
   "source": [
    "# Loading the corrplot package for plotting\n",
    "# ---\n",
    "library(corrplot)"
   ]
  },
  {
   "cell_type": "code",
   "execution_count": 16,
   "metadata": {
    "ExecuteTime": {
     "end_time": "2020-03-16T17:28:32.539737Z",
     "start_time": "2020-03-16T17:28:17.455Z"
    }
   },
   "outputs": [],
   "source": [
    "# Remove columns with standard deviation of zero\n",
    "data.num <- super[, sapply(super, is.numeric)]\n",
    "\n",
    "data.num <- data.num[, !sapply(data.num, function(x) { sd(x) == 0} )]"
   ]
  },
  {
   "cell_type": "code",
   "execution_count": 17,
   "metadata": {
    "ExecuteTime": {
     "end_time": "2020-03-16T17:28:32.598703Z",
     "start_time": "2020-03-16T17:28:17.460Z"
    }
   },
   "outputs": [],
   "source": [
    "# Calculating the correlation matrix\n",
    "# ---\n",
    "#\n",
    "correlationMatrix <- cor(data.num)"
   ]
  },
  {
   "cell_type": "code",
   "execution_count": 18,
   "metadata": {
    "ExecuteTime": {
     "end_time": "2020-03-16T17:28:32.682656Z",
     "start_time": "2020-03-16T17:28:17.466Z"
    }
   },
   "outputs": [],
   "source": [
    "# Find attributes that are highly correlated\n",
    "# ---\n",
    "#\n",
    "highlyCorrelated <- findCorrelation(correlationMatrix, cutoff=0.75)"
   ]
  },
  {
   "cell_type": "code",
   "execution_count": 19,
   "metadata": {
    "ExecuteTime": {
     "end_time": "2020-03-16T17:28:32.768606Z",
     "start_time": "2020-03-16T17:28:17.473Z"
    }
   },
   "outputs": [
    {
     "data": {
      "text/html": [
       "<style>\n",
       ".list-inline {list-style: none; margin:0; padding: 0}\n",
       ".list-inline>li {display: inline-block}\n",
       ".list-inline>li:not(:last-child)::after {content: \"\\00b7\"; padding: 0 .5ex}\n",
       "</style>\n",
       "<ol class=list-inline><li>9</li><li>12</li><li>7</li><li>10</li></ol>\n"
      ],
      "text/latex": [
       "\\begin{enumerate*}\n",
       "\\item 9\n",
       "\\item 12\n",
       "\\item 7\n",
       "\\item 10\n",
       "\\end{enumerate*}\n"
      ],
      "text/markdown": [
       "1. 9\n",
       "2. 12\n",
       "3. 7\n",
       "4. 10\n",
       "\n",
       "\n"
      ],
      "text/plain": [
       "[1]  9 12  7 10"
      ]
     },
     "metadata": {},
     "output_type": "display_data"
    },
    {
     "data": {
      "text/html": [
       "<style>\n",
       ".list-inline {list-style: none; margin:0; padding: 0}\n",
       ".list-inline>li {display: inline-block}\n",
       ".list-inline>li:not(:last-child)::after {content: \"\\00b7\"; padding: 0 .5ex}\n",
       "</style>\n",
       "<ol class=list-inline><li>'cogs'</li><li>'Total'</li><li>'Tax'</li><li>'gross.income'</li></ol>\n"
      ],
      "text/latex": [
       "\\begin{enumerate*}\n",
       "\\item 'cogs'\n",
       "\\item 'Total'\n",
       "\\item 'Tax'\n",
       "\\item 'gross.income'\n",
       "\\end{enumerate*}\n"
      ],
      "text/markdown": [
       "1. 'cogs'\n",
       "2. 'Total'\n",
       "3. 'Tax'\n",
       "4. 'gross.income'\n",
       "\n",
       "\n"
      ],
      "text/plain": [
       "[1] \"cogs\"         \"Total\"        \"Tax\"          \"gross.income\""
      ]
     },
     "metadata": {},
     "output_type": "display_data"
    }
   ],
   "source": [
    "# Highly correlated attributes\n",
    "# ---\n",
    "# \n",
    "highlyCorrelated\n",
    "\n",
    "names(data.num[,highlyCorrelated])"
   ]
  },
  {
   "cell_type": "markdown",
   "metadata": {},
   "source": [
    "We observe 4 colums whcih were highly correlated, that is \n",
    "\n",
    "- cogs\n",
    "\n",
    "- Total\n",
    "\n",
    "- Tax \n",
    "\n",
    "- gross.income"
   ]
  },
  {
   "cell_type": "code",
   "execution_count": 20,
   "metadata": {
    "ExecuteTime": {
     "end_time": "2020-03-16T17:28:32.814579Z",
     "start_time": "2020-03-16T17:28:17.745Z"
    }
   },
   "outputs": [],
   "source": [
    "# We can remove the variables with a higher correlation \n",
    "# and comparing the results graphically as shown below\n",
    "# ---\n",
    "# \n",
    "# Removing Redundant Features \n",
    "# ---\n",
    "# \n",
    "super2<-data.num[-highlyCorrelated]"
   ]
  },
  {
   "cell_type": "code",
   "execution_count": 21,
   "metadata": {
    "ExecuteTime": {
     "end_time": "2020-03-16T17:28:33.285309Z",
     "start_time": "2020-03-16T17:28:17.751Z"
    }
   },
   "outputs": [
    {
     "data": {
      "image/png": "[encoded data removed]",
      "text/plain": [
       "Plot with title \"\""
      ]
     },
     "metadata": {},
     "output_type": "display_data"
    }
   ],
   "source": [
    "# Performing our graphical comparison\n",
    "# ---\n",
    "# \n",
    "par(mfrow = c(1, 2))\n",
    "corrplot(correlationMatrix, order = \"hclust\")\n",
    "corrplot(cor(super2), order = \"hclust\")"
   ]
  },
  {
   "cell_type": "markdown",
   "metadata": {},
   "source": [
    "After feature selection we see that irrelevant and redundant features have been removed"
   ]
  },
  {
   "cell_type": "code",
   "execution_count": null,
   "metadata": {},
   "outputs": [],
   "source": []
  }
 ],
 "metadata": {
  "kernelspec": {
   "display_name": "R",
   "language": "R",
   "name": "ir"
  },
  "language_info": {
   "codemirror_mode": "r",
   "file_extension": ".r",
   "mimetype": "text/x-r-source",
   "name": "R",
   "pygments_lexer": "r",
   "version": "3.6.2"
  },
  "toc": {
   "base_numbering": 1,
   "nav_menu": {},
   "number_sections": true,
   "sideBar": true,
   "skip_h1_title": false,
   "title_cell": "Table of Contents",
   "title_sidebar": "Contents",
   "toc_cell": false,
   "toc_position": {},
   "toc_section_display": true,
   "toc_window_display": true
  }
 },
 "nbformat": 4,
 "nbformat_minor": 4
}
