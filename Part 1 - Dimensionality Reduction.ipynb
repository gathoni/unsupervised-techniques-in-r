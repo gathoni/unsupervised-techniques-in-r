{
 "cells": [
  {
   "cell_type": "markdown",
   "metadata": {},
   "source": [
    "### Context\n",
    "\n",
    "You are a Data analyst at Carrefour Kenya and are currently undertaking a project that will inform the marketing department on the most relevant marketing strategies that will result in the highest no. of sales (total price including tax). Your project has been divided into three parts where you'll explore a recent marketing dataset by performing various unsupervised learning techniques and later providing recommendations based on your insights.\n",
    "\n",
    "### Dimensionality Reduction\n",
    "\n",
    "This section of the project entails reducing your dataset to a low dimensional dataset using the t-SNE algorithm or PCA. You will be required to perform your analysis and provide insights gained from your analysis."
   ]
  },
  {
   "cell_type": "markdown",
   "metadata": {},
   "source": [
    "#####  Load dataset"
   ]
  },
  {
   "cell_type": "code",
   "execution_count": 46,
   "metadata": {
    "ExecuteTime": {
     "end_time": "2020-03-23T12:50:53.114158Z",
     "start_time": "2020-03-23T12:50:53.002Z"
    }
   },
   "outputs": [
    {
     "data": {
      "text/html": [
       "<table>\n",
       "<caption>A data.frame: 6 × 16</caption>\n",
       "<thead>\n",
       "\t<tr><th></th><th scope=col>Invoice.ID</th><th scope=col>Branch</th><th scope=col>Customer.type</th><th scope=col>Gender</th><th scope=col>Product.line</th><th scope=col>Unit.price</th><th scope=col>Quantity</th><th scope=col>Tax</th><th scope=col>Date</th><th scope=col>Time</th><th scope=col>Payment</th><th scope=col>cogs</th><th scope=col>gross.margin.percentage</th><th scope=col>gross.income</th><th scope=col>Rating</th><th scope=col>Total</th></tr>\n",
       "\t<tr><th></th><th scope=col>&lt;fct&gt;</th><th scope=col>&lt;fct&gt;</th><th scope=col>&lt;fct&gt;</th><th scope=col>&lt;fct&gt;</th><th scope=col>&lt;fct&gt;</th><th scope=col>&lt;dbl&gt;</th><th scope=col>&lt;int&gt;</th><th scope=col>&lt;dbl&gt;</th><th scope=col>&lt;fct&gt;</th><th scope=col>&lt;fct&gt;</th><th scope=col>&lt;fct&gt;</th><th scope=col>&lt;dbl&gt;</th><th scope=col>&lt;dbl&gt;</th><th scope=col>&lt;dbl&gt;</th><th scope=col>&lt;dbl&gt;</th><th scope=col>&lt;dbl&gt;</th></tr>\n",
       "</thead>\n",
       "<tbody>\n",
       "\t<tr><th scope=row>1</th><td>750-67-8428</td><td>A</td><td>Member</td><td>Female</td><td>Health and beauty     </td><td>74.69</td><td>7</td><td>26.1415</td><td>1/5/2019 </td><td>13:08</td><td>Ewallet    </td><td>522.83</td><td>4.761905</td><td>26.1415</td><td>9.1</td><td>548.9715</td></tr>\n",
       "\t<tr><th scope=row>2</th><td>226-31-3081</td><td>C</td><td>Normal</td><td>Female</td><td>Electronic accessories</td><td>15.28</td><td>5</td><td> 3.8200</td><td>3/8/2019 </td><td>10:29</td><td>Cash       </td><td> 76.40</td><td>4.761905</td><td> 3.8200</td><td>9.6</td><td> 80.2200</td></tr>\n",
       "\t<tr><th scope=row>3</th><td>631-41-3108</td><td>A</td><td>Normal</td><td>Male  </td><td>Home and lifestyle    </td><td>46.33</td><td>7</td><td>16.2155</td><td>3/3/2019 </td><td>13:23</td><td>Credit card</td><td>324.31</td><td>4.761905</td><td>16.2155</td><td>7.4</td><td>340.5255</td></tr>\n",
       "\t<tr><th scope=row>4</th><td>123-19-1176</td><td>A</td><td>Member</td><td>Male  </td><td>Health and beauty     </td><td>58.22</td><td>8</td><td>23.2880</td><td>1/27/2019</td><td>20:33</td><td>Ewallet    </td><td>465.76</td><td>4.761905</td><td>23.2880</td><td>8.4</td><td>489.0480</td></tr>\n",
       "\t<tr><th scope=row>5</th><td>373-73-7910</td><td>A</td><td>Normal</td><td>Male  </td><td>Sports and travel     </td><td>86.31</td><td>7</td><td>30.2085</td><td>2/8/2019 </td><td>10:37</td><td>Ewallet    </td><td>604.17</td><td>4.761905</td><td>30.2085</td><td>5.3</td><td>634.3785</td></tr>\n",
       "\t<tr><th scope=row>6</th><td>699-14-3026</td><td>C</td><td>Normal</td><td>Male  </td><td>Electronic accessories</td><td>85.39</td><td>7</td><td>29.8865</td><td>3/25/2019</td><td>18:30</td><td>Ewallet    </td><td>597.73</td><td>4.761905</td><td>29.8865</td><td>4.1</td><td>627.6165</td></tr>\n",
       "</tbody>\n",
       "</table>\n"
      ],
      "text/latex": [
       "A data.frame: 6 × 16\n",
       "\\begin{tabular}{r|llllllllllllllll}\n",
       "  & Invoice.ID & Branch & Customer.type & Gender & Product.line & Unit.price & Quantity & Tax & Date & Time & Payment & cogs & gross.margin.percentage & gross.income & Rating & Total\\\\\n",
       "  & <fct> & <fct> & <fct> & <fct> & <fct> & <dbl> & <int> & <dbl> & <fct> & <fct> & <fct> & <dbl> & <dbl> & <dbl> & <dbl> & <dbl>\\\\\n",
       "\\hline\n",
       "\t1 & 750-67-8428 & A & Member & Female & Health and beauty      & 74.69 & 7 & 26.1415 & 1/5/2019  & 13:08 & Ewallet     & 522.83 & 4.761905 & 26.1415 & 9.1 & 548.9715\\\\\n",
       "\t2 & 226-31-3081 & C & Normal & Female & Electronic accessories & 15.28 & 5 &  3.8200 & 3/8/2019  & 10:29 & Cash        &  76.40 & 4.761905 &  3.8200 & 9.6 &  80.2200\\\\\n",
       "\t3 & 631-41-3108 & A & Normal & Male   & Home and lifestyle     & 46.33 & 7 & 16.2155 & 3/3/2019  & 13:23 & Credit card & 324.31 & 4.761905 & 16.2155 & 7.4 & 340.5255\\\\\n",
       "\t4 & 123-19-1176 & A & Member & Male   & Health and beauty      & 58.22 & 8 & 23.2880 & 1/27/2019 & 20:33 & Ewallet     & 465.76 & 4.761905 & 23.2880 & 8.4 & 489.0480\\\\\n",
       "\t5 & 373-73-7910 & A & Normal & Male   & Sports and travel      & 86.31 & 7 & 30.2085 & 2/8/2019  & 10:37 & Ewallet     & 604.17 & 4.761905 & 30.2085 & 5.3 & 634.3785\\\\\n",
       "\t6 & 699-14-3026 & C & Normal & Male   & Electronic accessories & 85.39 & 7 & 29.8865 & 3/25/2019 & 18:30 & Ewallet     & 597.73 & 4.761905 & 29.8865 & 4.1 & 627.6165\\\\\n",
       "\\end{tabular}\n"
      ],
      "text/markdown": [
       "\n",
       "A data.frame: 6 × 16\n",
       "\n",
       "| <!--/--> | Invoice.ID &lt;fct&gt; | Branch &lt;fct&gt; | Customer.type &lt;fct&gt; | Gender &lt;fct&gt; | Product.line &lt;fct&gt; | Unit.price &lt;dbl&gt; | Quantity &lt;int&gt; | Tax &lt;dbl&gt; | Date &lt;fct&gt; | Time &lt;fct&gt; | Payment &lt;fct&gt; | cogs &lt;dbl&gt; | gross.margin.percentage &lt;dbl&gt; | gross.income &lt;dbl&gt; | Rating &lt;dbl&gt; | Total &lt;dbl&gt; |\n",
       "|---|---|---|---|---|---|---|---|---|---|---|---|---|---|---|---|---|\n",
       "| 1 | 750-67-8428 | A | Member | Female | Health and beauty      | 74.69 | 7 | 26.1415 | 1/5/2019  | 13:08 | Ewallet     | 522.83 | 4.761905 | 26.1415 | 9.1 | 548.9715 |\n",
       "| 2 | 226-31-3081 | C | Normal | Female | Electronic accessories | 15.28 | 5 |  3.8200 | 3/8/2019  | 10:29 | Cash        |  76.40 | 4.761905 |  3.8200 | 9.6 |  80.2200 |\n",
       "| 3 | 631-41-3108 | A | Normal | Male   | Home and lifestyle     | 46.33 | 7 | 16.2155 | 3/3/2019  | 13:23 | Credit card | 324.31 | 4.761905 | 16.2155 | 7.4 | 340.5255 |\n",
       "| 4 | 123-19-1176 | A | Member | Male   | Health and beauty      | 58.22 | 8 | 23.2880 | 1/27/2019 | 20:33 | Ewallet     | 465.76 | 4.761905 | 23.2880 | 8.4 | 489.0480 |\n",
       "| 5 | 373-73-7910 | A | Normal | Male   | Sports and travel      | 86.31 | 7 | 30.2085 | 2/8/2019  | 10:37 | Ewallet     | 604.17 | 4.761905 | 30.2085 | 5.3 | 634.3785 |\n",
       "| 6 | 699-14-3026 | C | Normal | Male   | Electronic accessories | 85.39 | 7 | 29.8865 | 3/25/2019 | 18:30 | Ewallet     | 597.73 | 4.761905 | 29.8865 | 4.1 | 627.6165 |\n",
       "\n"
      ],
      "text/plain": [
       "  Invoice.ID  Branch Customer.type Gender Product.line           Unit.price\n",
       "1 750-67-8428 A      Member        Female Health and beauty      74.69     \n",
       "2 226-31-3081 C      Normal        Female Electronic accessories 15.28     \n",
       "3 631-41-3108 A      Normal        Male   Home and lifestyle     46.33     \n",
       "4 123-19-1176 A      Member        Male   Health and beauty      58.22     \n",
       "5 373-73-7910 A      Normal        Male   Sports and travel      86.31     \n",
       "6 699-14-3026 C      Normal        Male   Electronic accessories 85.39     \n",
       "  Quantity Tax     Date      Time  Payment     cogs   gross.margin.percentage\n",
       "1 7        26.1415 1/5/2019  13:08 Ewallet     522.83 4.761905               \n",
       "2 5         3.8200 3/8/2019  10:29 Cash         76.40 4.761905               \n",
       "3 7        16.2155 3/3/2019  13:23 Credit card 324.31 4.761905               \n",
       "4 8        23.2880 1/27/2019 20:33 Ewallet     465.76 4.761905               \n",
       "5 7        30.2085 2/8/2019  10:37 Ewallet     604.17 4.761905               \n",
       "6 7        29.8865 3/25/2019 18:30 Ewallet     597.73 4.761905               \n",
       "  gross.income Rating Total   \n",
       "1 26.1415      9.1    548.9715\n",
       "2  3.8200      9.6     80.2200\n",
       "3 16.2155      7.4    340.5255\n",
       "4 23.2880      8.4    489.0480\n",
       "5 30.2085      5.3    634.3785\n",
       "6 29.8865      4.1    627.6165"
      ]
     },
     "metadata": {},
     "output_type": "display_data"
    }
   ],
   "source": [
    "# Load dataset\n",
    "super <- read.csv(\"Supermarket - Sales Data.csv\")\n",
    "head(super)"
   ]
  },
  {
   "cell_type": "markdown",
   "metadata": {},
   "source": [
    "##### Explore the dataset"
   ]
  },
  {
   "cell_type": "code",
   "execution_count": 47,
   "metadata": {
    "ExecuteTime": {
     "end_time": "2020-03-23T12:50:53.223099Z",
     "start_time": "2020-03-23T12:50:53.152Z"
    }
   },
   "outputs": [
    {
     "name": "stdout",
     "output_type": "stream",
     "text": [
      "'data.frame':\t1000 obs. of  16 variables:\n",
      " $ Invoice.ID             : Factor w/ 1000 levels \"101-17-6199\",..: 815 143 654 19 340 734 316 265 703 727 ...\n",
      " $ Branch                 : Factor w/ 3 levels \"A\",\"B\",\"C\": 1 3 1 1 1 3 1 3 1 2 ...\n",
      " $ Customer.type          : Factor w/ 2 levels \"Member\",\"Normal\": 1 2 2 1 2 2 1 2 1 1 ...\n",
      " $ Gender                 : Factor w/ 2 levels \"Female\",\"Male\": 1 1 2 2 2 2 1 1 1 1 ...\n",
      " $ Product.line           : Factor w/ 6 levels \"Electronic accessories\",..: 4 1 5 4 6 1 1 5 4 3 ...\n",
      " $ Unit.price             : num  74.7 15.3 46.3 58.2 86.3 ...\n",
      " $ Quantity               : int  7 5 7 8 7 7 6 10 2 3 ...\n",
      " $ Tax                    : num  26.14 3.82 16.22 23.29 30.21 ...\n",
      " $ Date                   : Factor w/ 89 levels \"1/1/2019\",\"1/10/2019\",..: 27 88 82 20 58 77 49 48 2 44 ...\n",
      " $ Time                   : Factor w/ 506 levels \"10:00\",\"10:01\",..: 147 24 156 486 30 394 215 78 342 160 ...\n",
      " $ Payment                : Factor w/ 3 levels \"Cash\",\"Credit card\",..: 3 1 2 3 3 3 3 3 2 2 ...\n",
      " $ cogs                   : num  522.8 76.4 324.3 465.8 604.2 ...\n",
      " $ gross.margin.percentage: num  4.76 4.76 4.76 4.76 4.76 ...\n",
      " $ gross.income           : num  26.14 3.82 16.22 23.29 30.21 ...\n",
      " $ Rating                 : num  9.1 9.6 7.4 8.4 5.3 4.1 5.8 8 7.2 5.9 ...\n",
      " $ Total                  : num  549 80.2 340.5 489 634.4 ...\n"
     ]
    }
   ],
   "source": [
    "# Structure of the dataset\n",
    "str(super)"
   ]
  },
  {
   "cell_type": "markdown",
   "metadata": {},
   "source": [
    "<b>Observation:</b>\n",
    "<ul>\n",
    "    <li>Invoice.ID is a factor, we will need to convert it to numeric since a factor can't have 1000 levels</li>\n",
    "    <li>We will also need to convert Date and Time columns to the correct data type</li>\n",
    "</ul>"
   ]
  },
  {
   "cell_type": "code",
   "execution_count": 48,
   "metadata": {
    "ExecuteTime": {
     "end_time": "2020-03-23T12:50:53.354025Z",
     "start_time": "2020-03-23T12:50:53.292Z"
    }
   },
   "outputs": [
    {
     "data": {
      "text/html": [
       "<style>\n",
       ".list-inline {list-style: none; margin:0; padding: 0}\n",
       ".list-inline>li {display: inline-block}\n",
       ".list-inline>li:not(:last-child)::after {content: \"\\00b7\"; padding: 0 .5ex}\n",
       "</style>\n",
       "<ol class=list-inline><li>1000</li><li>16</li></ol>\n"
      ],
      "text/latex": [
       "\\begin{enumerate*}\n",
       "\\item 1000\n",
       "\\item 16\n",
       "\\end{enumerate*}\n"
      ],
      "text/markdown": [
       "1. 1000\n",
       "2. 16\n",
       "\n",
       "\n"
      ],
      "text/plain": [
       "[1] 1000   16"
      ]
     },
     "metadata": {},
     "output_type": "display_data"
    }
   ],
   "source": [
    "# DImension of the dataset\n",
    "dim(super)"
   ]
  },
  {
   "cell_type": "markdown",
   "metadata": {},
   "source": [
    "<blockquote>The dataset had 1000 rows and 16 columns</blockquote>"
   ]
  },
  {
   "cell_type": "code",
   "execution_count": 49,
   "metadata": {
    "ExecuteTime": {
     "end_time": "2020-03-23T12:50:53.564901Z",
     "start_time": "2020-03-23T12:50:53.472Z"
    }
   },
   "outputs": [
    {
     "data": {
      "text/plain": [
       "       Invoice.ID  Branch  Customer.type    Gender   \n",
       " 101-17-6199:  1   A:340   Member:501    Female:501  \n",
       " 101-81-4070:  1   B:332   Normal:499    Male  :499  \n",
       " 102-06-2002:  1   C:328                             \n",
       " 102-77-2261:  1                                     \n",
       " 105-10-6182:  1                                     \n",
       " 105-31-1824:  1                                     \n",
       " (Other)    :994                                     \n",
       "                 Product.line   Unit.price       Quantity          Tax         \n",
       " Electronic accessories:170   Min.   :10.08   Min.   : 1.00   Min.   : 0.5085  \n",
       " Fashion accessories   :178   1st Qu.:32.88   1st Qu.: 3.00   1st Qu.: 5.9249  \n",
       " Food and beverages    :174   Median :55.23   Median : 5.00   Median :12.0880  \n",
       " Health and beauty     :152   Mean   :55.67   Mean   : 5.51   Mean   :15.3794  \n",
       " Home and lifestyle    :160   3rd Qu.:77.94   3rd Qu.: 8.00   3rd Qu.:22.4453  \n",
       " Sports and travel     :166   Max.   :99.96   Max.   :10.00   Max.   :49.6500  \n",
       "                                                                               \n",
       "        Date          Time            Payment         cogs       \n",
       " 2/7/2019 : 20   14:42  :  7   Cash       :344   Min.   : 10.17  \n",
       " 2/15/2019: 19   19:48  :  7   Credit card:311   1st Qu.:118.50  \n",
       " 1/8/2019 : 18   17:38  :  6   Ewallet    :345   Median :241.76  \n",
       " 3/14/2019: 18   10:11  :  5                     Mean   :307.59  \n",
       " 3/2/2019 : 18   11:40  :  5                     3rd Qu.:448.90  \n",
       " 1/23/2019: 17   11:51  :  5                     Max.   :993.00  \n",
       " (Other)  :890   (Other):965                                     \n",
       " gross.margin.percentage  gross.income         Rating           Total        \n",
       " Min.   :4.762           Min.   : 0.5085   Min.   : 4.000   Min.   :  10.68  \n",
       " 1st Qu.:4.762           1st Qu.: 5.9249   1st Qu.: 5.500   1st Qu.: 124.42  \n",
       " Median :4.762           Median :12.0880   Median : 7.000   Median : 253.85  \n",
       " Mean   :4.762           Mean   :15.3794   Mean   : 6.973   Mean   : 322.97  \n",
       " 3rd Qu.:4.762           3rd Qu.:22.4453   3rd Qu.: 8.500   3rd Qu.: 471.35  \n",
       " Max.   :4.762           Max.   :49.6500   Max.   :10.000   Max.   :1042.65  \n",
       "                                                                             "
      ]
     },
     "metadata": {},
     "output_type": "display_data"
    }
   ],
   "source": [
    "# Summary of the dataset\n",
    "summary(super)"
   ]
  },
  {
   "cell_type": "code",
   "execution_count": 50,
   "metadata": {
    "ExecuteTime": {
     "end_time": "2020-03-23T12:50:54.588314Z",
     "start_time": "2020-03-23T12:50:53.478Z"
    }
   },
   "outputs": [
    {
     "name": "stdout",
     "output_type": "stream",
     "text": [
      "-- Data Summary ------------------------\n",
      "                           Values\n",
      "Name                       super \n",
      "Number of rows             1000  \n",
      "Number of columns          16    \n",
      "_______________________          \n",
      "Column type frequency:           \n",
      "  factor                   8     \n",
      "  numeric                  8     \n",
      "________________________         \n",
      "Group variables            None  \n",
      "\n",
      "-- Variable type: factor -------------------------------------------------------\n",
      "# A tibble: 8 x 6\n",
      "  skim_variable n_missing complete_rate ordered n_unique\n",
      "* <chr>             <int>         <dbl> <lgl>      <int>\n",
      "1 Invoice.ID            0             1 FALSE       1000\n",
      "2 Branch                0             1 FALSE          3\n",
      "3 Customer.type         0             1 FALSE          2\n",
      "4 Gender                0             1 FALSE          2\n",
      "5 Product.line          0             1 FALSE          6\n",
      "6 Date                  0             1 FALSE         89\n",
      "7 Time                  0             1 FALSE        506\n",
      "8 Payment               0             1 FALSE          3\n",
      "  top_counts                            \n",
      "* <chr>                                 \n",
      "1 101: 1, 101: 1, 102: 1, 102: 1        \n",
      "2 A: 340, B: 332, C: 328                \n",
      "3 Mem: 501, Nor: 499                    \n",
      "4 Fem: 501, Mal: 499                    \n",
      "5 Fas: 178, Foo: 174, Ele: 170, Spo: 166\n",
      "6 2/7: 20, 2/1: 19, 1/8: 18, 3/1: 18    \n",
      "7 14:: 7, 19:: 7, 17:: 6, 10:: 5        \n",
      "8 Ewa: 345, Cas: 344, Cre: 311          \n",
      "\n",
      "-- Variable type: numeric ------------------------------------------------------\n",
      "# A tibble: 8 x 11\n",
      "  skim_variable           n_missing complete_rate   mean     sd     p0    p25\n",
      "* <chr>                       <int>         <dbl>  <dbl>  <dbl>  <dbl>  <dbl>\n",
      "1 Unit.price                      0             1  55.7   26.5  10.1    32.9 \n",
      "2 Quantity                        0             1   5.51   2.92  1       3   \n",
      "3 Tax                             0             1  15.4   11.7   0.508   5.92\n",
      "4 cogs                            0             1 308.   234.   10.2   118.  \n",
      "5 gross.margin.percentage         0             1   4.76   0     4.76    4.76\n",
      "6 gross.income                    0             1  15.4   11.7   0.508   5.92\n",
      "7 Rating                          0             1   6.97   1.72  4       5.5 \n",
      "8 Total                           0             1 323.   246.   10.7   124.  \n",
      "     p50    p75    p100 hist \n",
      "*  <dbl>  <dbl>   <dbl> <chr>\n",
      "1  55.2   77.9   100.   <U+2587><U+2587><U+2587><U+2587><U+2587>\n",
      "2   5      8      10    <U+2587><U+2587><U+2587><U+2587><U+2587>\n",
      "3  12.1   22.4    49.6  <U+2587><U+2585><U+2583><U+2582><U+2581>\n",
      "4 242.   449.    993    <U+2587><U+2585><U+2583><U+2582><U+2581>\n",
      "5   4.76   4.76    4.76 <U+2581><U+2581><U+2587><U+2581><U+2581>\n",
      "6  12.1   22.4    49.6  <U+2587><U+2585><U+2583><U+2582><U+2581>\n",
      "7   7      8.5    10    <U+2587><U+2587><U+2587><U+2587><U+2587>\n",
      "8 254.   471.   1043.   <U+2587><U+2585><U+2583><U+2582><U+2581>\n"
     ]
    }
   ],
   "source": [
    "library(skimr)\n",
    "skim(super)"
   ]
  },
  {
   "cell_type": "markdown",
   "metadata": {},
   "source": [
    "##### Data Cleaning"
   ]
  },
  {
   "cell_type": "code",
   "execution_count": 51,
   "metadata": {
    "ExecuteTime": {
     "end_time": "2020-03-23T12:50:54.675262Z",
     "start_time": "2020-03-23T12:50:53.873Z"
    }
   },
   "outputs": [
    {
     "data": {
      "text/html": [
       "<style>\n",
       ".dl-inline {width: auto; margin:0; padding: 0}\n",
       ".dl-inline>dt, .dl-inline>dd {float: none; width: auto; display: inline-block}\n",
       ".dl-inline>dt::after {content: \":\\0020\"; padding-right: .5ex}\n",
       ".dl-inline>dt:not(:first-of-type) {padding-left: .5ex}\n",
       "</style><dl class=dl-inline><dt>Invoice.ID</dt><dd>0</dd><dt>Branch</dt><dd>0</dd><dt>Customer.type</dt><dd>0</dd><dt>Gender</dt><dd>0</dd><dt>Product.line</dt><dd>0</dd><dt>Unit.price</dt><dd>0</dd><dt>Quantity</dt><dd>0</dd><dt>Tax</dt><dd>0</dd><dt>Date</dt><dd>0</dd><dt>Time</dt><dd>0</dd><dt>Payment</dt><dd>0</dd><dt>cogs</dt><dd>0</dd><dt>gross.margin.percentage</dt><dd>0</dd><dt>gross.income</dt><dd>0</dd><dt>Rating</dt><dd>0</dd><dt>Total</dt><dd>0</dd></dl>\n"
      ],
      "text/latex": [
       "\\begin{description*}\n",
       "\\item[Invoice.ID] 0\n",
       "\\item[Branch] 0\n",
       "\\item[Customer.type] 0\n",
       "\\item[Gender] 0\n",
       "\\item[Product.line] 0\n",
       "\\item[Unit.price] 0\n",
       "\\item[Quantity] 0\n",
       "\\item[Tax] 0\n",
       "\\item[Date] 0\n",
       "\\item[Time] 0\n",
       "\\item[Payment] 0\n",
       "\\item[cogs] 0\n",
       "\\item[gross.margin.percentage] 0\n",
       "\\item[gross.income] 0\n",
       "\\item[Rating] 0\n",
       "\\item[Total] 0\n",
       "\\end{description*}\n"
      ],
      "text/markdown": [
       "Invoice.ID\n",
       ":   0Branch\n",
       ":   0Customer.type\n",
       ":   0Gender\n",
       ":   0Product.line\n",
       ":   0Unit.price\n",
       ":   0Quantity\n",
       ":   0Tax\n",
       ":   0Date\n",
       ":   0Time\n",
       ":   0Payment\n",
       ":   0cogs\n",
       ":   0gross.margin.percentage\n",
       ":   0gross.income\n",
       ":   0Rating\n",
       ":   0Total\n",
       ":   0\n",
       "\n"
      ],
      "text/plain": [
       "             Invoice.ID                  Branch           Customer.type \n",
       "                      0                       0                       0 \n",
       "                 Gender            Product.line              Unit.price \n",
       "                      0                       0                       0 \n",
       "               Quantity                     Tax                    Date \n",
       "                      0                       0                       0 \n",
       "                   Time                 Payment                    cogs \n",
       "                      0                       0                       0 \n",
       "gross.margin.percentage            gross.income                  Rating \n",
       "                      0                       0                       0 \n",
       "                  Total \n",
       "                      0 "
      ]
     },
     "metadata": {},
     "output_type": "display_data"
    }
   ],
   "source": [
    "# Missing Values\n",
    "\n",
    "# Total missing values in each column \n",
    "# by using the function colSums()\n",
    "\n",
    "colSums(is.na(super))"
   ]
  },
  {
   "cell_type": "markdown",
   "metadata": {},
   "source": [
    "<blockquote>There are no missing values in the dataset</blockquote>"
   ]
  },
  {
   "cell_type": "code",
   "execution_count": 52,
   "metadata": {
    "ExecuteTime": {
     "end_time": "2020-03-23T12:50:54.781203Z",
     "start_time": "2020-03-23T12:50:54.520Z"
    }
   },
   "outputs": [
    {
     "data": {
      "text/html": [
       "<style>\n",
       ".list-inline {list-style: none; margin:0; padding: 0}\n",
       ".list-inline>li {display: inline-block}\n",
       ".list-inline>li:not(:last-child)::after {content: \"\\00b7\"; padding: 0 .5ex}\n",
       "</style>\n",
       "<ol class=list-inline><li>0</li><li>16</li></ol>\n"
      ],
      "text/latex": [
       "\\begin{enumerate*}\n",
       "\\item 0\n",
       "\\item 16\n",
       "\\end{enumerate*}\n"
      ],
      "text/markdown": [
       "1. 0\n",
       "2. 16\n",
       "\n",
       "\n"
      ],
      "text/plain": [
       "[1]  0 16"
      ]
     },
     "metadata": {},
     "output_type": "display_data"
    }
   ],
   "source": [
    "# Duplicated Data\n",
    "\n",
    "# duplicated rows in the dataset df \n",
    "# and assign to a variable duplicated_rows\n",
    "\n",
    "duplicated_rows <- super[duplicated(super),]\n",
    "\n",
    "# Lets print out the variable duplicated_rows and see these duplicated rows \n",
    "\n",
    "dim(duplicated_rows)"
   ]
  },
  {
   "cell_type": "markdown",
   "metadata": {},
   "source": [
    "<blockquote>There are no duplicated rows</blockquote>"
   ]
  },
  {
   "cell_type": "code",
   "execution_count": 53,
   "metadata": {
    "ExecuteTime": {
     "end_time": "2020-03-23T12:50:54.846166Z",
     "start_time": "2020-03-23T12:50:54.794Z"
    }
   },
   "outputs": [],
   "source": [
    "# Change datatypes to the correct ones:\n",
    "\n",
    "# To Numeric datatype\n",
    "g = c('Branch', 'Gender','Customer.type', 'Product.line', 'Payment')\n",
    "for (i in g){\n",
    "    super[,i] = as.numeric(super[,i])\n",
    "}"
   ]
  },
  {
   "cell_type": "code",
   "execution_count": 54,
   "metadata": {
    "ExecuteTime": {
     "end_time": "2020-03-23T12:50:55.046055Z",
     "start_time": "2020-03-23T12:50:54.800Z"
    },
    "scrolled": false
   },
   "outputs": [
    {
     "data": {
      "image/png": "[encoded data removed]",
      "text/plain": [
       "Plot with title \"Outliers in Numerical Columns\""
      ]
     },
     "metadata": {},
     "output_type": "display_data"
    }
   ],
   "source": [
    "# Outliers\n",
    "\n",
    "# Subset your data to numerical columns only\n",
    "num <- super[, c(1,2,3,4,5,6,7,8,11,12,13,14,15,16)]\n",
    "boxplot(num,\n",
    "main = \"Outliers in Numerical Columns\",\n",
    "xlab = \"Columns\",\n",
    "col = \"purple\",\n",
    "border = \"cyan\")"
   ]
  },
  {
   "cell_type": "markdown",
   "metadata": {},
   "source": [
    "<blockquote>We see some outliers on cogs and Total colums </blockquote>"
   ]
  },
  {
   "cell_type": "code",
   "execution_count": 55,
   "metadata": {
    "ExecuteTime": {
     "end_time": "2020-03-23T12:50:55.186970Z",
     "start_time": "2020-03-23T12:50:54.929Z"
    },
    "scrolled": false
   },
   "outputs": [
    {
     "data": {
      "image/png": "[encoded data removed]",
      "text/plain": [
       "Plot with title \"Outliers in 'cogs' Colum\""
      ]
     },
     "metadata": {},
     "output_type": "display_data"
    }
   ],
   "source": [
    "boxplot(super$cogs,\n",
    "main = \"Outliers in 'cogs' Colum\",\n",
    "xlab = \"cogs\",\n",
    "col = \"maroon\",\n",
    "border = \"orange\",\n",
    "horizontal = TRUE,\n",
    "notch = TRUE\n",
    ")"
   ]
  },
  {
   "cell_type": "code",
   "execution_count": 56,
   "metadata": {
    "ExecuteTime": {
     "end_time": "2020-03-23T12:50:55.310903Z",
     "start_time": "2020-03-23T12:50:54.935Z"
    }
   },
   "outputs": [
    {
     "data": {
      "image/png": "[encoded data removed]",
      "text/plain": [
       "Plot with title \"Outliers in 'Total' Colum\""
      ]
     },
     "metadata": {},
     "output_type": "display_data"
    }
   ],
   "source": [
    "boxplot(super$Total,\n",
    "main = \"Outliers in 'Total' Colum\",\n",
    "xlab = \"Total\",\n",
    "col = \"pink\",\n",
    "border = \"blue\",\n",
    "horizontal = TRUE,\n",
    "notch = TRUE\n",
    ")"
   ]
  },
  {
   "cell_type": "markdown",
   "metadata": {},
   "source": [
    "<b>Observation</b>\n",
    "<ul>\n",
    "    <li>cogs, gross.income, Tax and Total columns are skewed to the left</li>\n",
    "    <li>Rating and Unit.price are not normally distributed</li>\n",
    "</ul>"
   ]
  },
  {
   "cell_type": "code",
   "execution_count": 57,
   "metadata": {
    "ExecuteTime": {
     "end_time": "2020-03-23T12:50:55.380857Z",
     "start_time": "2020-03-23T12:50:55.079Z"
    }
   },
   "outputs": [
    {
     "name": "stdout",
     "output_type": "stream",
     "text": [
      "'data.frame':\t1000 obs. of  16 variables:\n",
      " $ Invoice.ID             : Factor w/ 1000 levels \"101-17-6199\",..: 815 143 654 19 340 734 316 265 703 727 ...\n",
      " $ Branch                 : num  1 3 1 1 1 3 1 3 1 2 ...\n",
      " $ Customer.type          : num  1 2 2 1 2 2 1 2 1 1 ...\n",
      " $ Gender                 : num  1 1 2 2 2 2 1 1 1 1 ...\n",
      " $ Product.line           : num  4 1 5 4 6 1 1 5 4 3 ...\n",
      " $ Unit.price             : num  74.7 15.3 46.3 58.2 86.3 ...\n",
      " $ Quantity               : int  7 5 7 8 7 7 6 10 2 3 ...\n",
      " $ Tax                    : num  26.14 3.82 16.22 23.29 30.21 ...\n",
      " $ Date                   : Factor w/ 89 levels \"1/1/2019\",\"1/10/2019\",..: 27 88 82 20 58 77 49 48 2 44 ...\n",
      " $ Time                   : Factor w/ 506 levels \"10:00\",\"10:01\",..: 147 24 156 486 30 394 215 78 342 160 ...\n",
      " $ Payment                : num  3 1 2 3 3 3 3 3 2 2 ...\n",
      " $ cogs                   : num  522.8 76.4 324.3 465.8 604.2 ...\n",
      " $ gross.margin.percentage: num  4.76 4.76 4.76 4.76 4.76 ...\n",
      " $ gross.income           : num  26.14 3.82 16.22 23.29 30.21 ...\n",
      " $ Rating                 : num  9.1 9.6 7.4 8.4 5.3 4.1 5.8 8 7.2 5.9 ...\n",
      " $ Total                  : num  549 80.2 340.5 489 634.4 ...\n"
     ]
    }
   ],
   "source": [
    "str(super)"
   ]
  },
  {
   "cell_type": "markdown",
   "metadata": {},
   "source": [
    "Some variables do not have the right data type.\n",
    "\n",
    " - Invoice should be a character string\n",
    " - Date should be date time and not num"
   ]
  },
  {
   "cell_type": "code",
   "execution_count": 58,
   "metadata": {
    "ExecuteTime": {
     "end_time": "2020-03-23T12:50:55.441826Z",
     "start_time": "2020-03-23T12:50:55.231Z"
    },
    "run_control": {
     "marked": true
    }
   },
   "outputs": [],
   "source": [
    "# Converting invoice id to character string.\n",
    "super$Invoice.ID = as.character(super$Invoice.ID)"
   ]
  },
  {
   "cell_type": "code",
   "execution_count": 59,
   "metadata": {
    "ExecuteTime": {
     "end_time": "2020-03-23T12:50:55.511785Z",
     "start_time": "2020-03-23T12:50:55.237Z"
    }
   },
   "outputs": [],
   "source": [
    "# Converting date and time to string\n",
    "\n",
    "#Combining the two columns and converting the data type to data_time\n",
    "super$Date_Time =  strptime(paste(super$Date, super$Time), format=\"%m/%d/%Y %M:%S\")"
   ]
  },
  {
   "cell_type": "code",
   "execution_count": 60,
   "metadata": {
    "ExecuteTime": {
     "end_time": "2020-03-23T12:50:55.614727Z",
     "start_time": "2020-03-23T12:50:55.241Z"
    }
   },
   "outputs": [
    {
     "name": "stdout",
     "output_type": "stream",
     "text": [
      "'data.frame':\t1000 obs. of  17 variables:\n",
      " $ Invoice.ID             : chr  \"750-67-8428\" \"226-31-3081\" \"631-41-3108\" \"123-19-1176\" ...\n",
      " $ Branch                 : num  1 3 1 1 1 3 1 3 1 2 ...\n",
      " $ Customer.type          : num  1 2 2 1 2 2 1 2 1 1 ...\n",
      " $ Gender                 : num  1 1 2 2 2 2 1 1 1 1 ...\n",
      " $ Product.line           : num  4 1 5 4 6 1 1 5 4 3 ...\n",
      " $ Unit.price             : num  74.7 15.3 46.3 58.2 86.3 ...\n",
      " $ Quantity               : int  7 5 7 8 7 7 6 10 2 3 ...\n",
      " $ Tax                    : num  26.14 3.82 16.22 23.29 30.21 ...\n",
      " $ Date                   : Factor w/ 89 levels \"1/1/2019\",\"1/10/2019\",..: 27 88 82 20 58 77 49 48 2 44 ...\n",
      " $ Time                   : Factor w/ 506 levels \"10:00\",\"10:01\",..: 147 24 156 486 30 394 215 78 342 160 ...\n",
      " $ Payment                : num  3 1 2 3 3 3 3 3 2 2 ...\n",
      " $ cogs                   : num  522.8 76.4 324.3 465.8 604.2 ...\n",
      " $ gross.margin.percentage: num  4.76 4.76 4.76 4.76 4.76 ...\n",
      " $ gross.income           : num  26.14 3.82 16.22 23.29 30.21 ...\n",
      " $ Rating                 : num  9.1 9.6 7.4 8.4 5.3 4.1 5.8 8 7.2 5.9 ...\n",
      " $ Total                  : num  549 80.2 340.5 489 634.4 ...\n",
      " $ Date_Time              : POSIXlt, format: \"2019-01-05 00:13:08\" \"2019-03-08 00:10:29\" ...\n"
     ]
    }
   ],
   "source": [
    "# Checking the data types again\n",
    "str(super)"
   ]
  },
  {
   "cell_type": "code",
   "execution_count": 61,
   "metadata": {
    "ExecuteTime": {
     "end_time": "2020-03-23T12:50:55.685683Z",
     "start_time": "2020-03-23T12:50:55.246Z"
    }
   },
   "outputs": [
    {
     "data": {
      "text/html": [
       "<style>\n",
       ".list-inline {list-style: none; margin:0; padding: 0}\n",
       ".list-inline>li {display: inline-block}\n",
       ".list-inline>li:not(:last-child)::after {content: \"\\00b7\"; padding: 0 .5ex}\n",
       "</style>\n",
       "<ol class=list-inline><li>'Invoice.ID'</li><li>'Branch'</li><li>'Customer.type'</li><li>'Gender'</li><li>'Product.line'</li><li>'Unit.price'</li><li>'Quantity'</li><li>'Tax'</li><li>'Payment'</li><li>'cogs'</li><li>'gross.margin.percentage'</li><li>'gross.income'</li><li>'Rating'</li><li>'Total'</li><li>'Date_Time'</li></ol>\n"
      ],
      "text/latex": [
       "\\begin{enumerate*}\n",
       "\\item 'Invoice.ID'\n",
       "\\item 'Branch'\n",
       "\\item 'Customer.type'\n",
       "\\item 'Gender'\n",
       "\\item 'Product.line'\n",
       "\\item 'Unit.price'\n",
       "\\item 'Quantity'\n",
       "\\item 'Tax'\n",
       "\\item 'Payment'\n",
       "\\item 'cogs'\n",
       "\\item 'gross.margin.percentage'\n",
       "\\item 'gross.income'\n",
       "\\item 'Rating'\n",
       "\\item 'Total'\n",
       "\\item 'Date\\_Time'\n",
       "\\end{enumerate*}\n"
      ],
      "text/markdown": [
       "1. 'Invoice.ID'\n",
       "2. 'Branch'\n",
       "3. 'Customer.type'\n",
       "4. 'Gender'\n",
       "5. 'Product.line'\n",
       "6. 'Unit.price'\n",
       "7. 'Quantity'\n",
       "8. 'Tax'\n",
       "9. 'Payment'\n",
       "10. 'cogs'\n",
       "11. 'gross.margin.percentage'\n",
       "12. 'gross.income'\n",
       "13. 'Rating'\n",
       "14. 'Total'\n",
       "15. 'Date_Time'\n",
       "\n",
       "\n"
      ],
      "text/plain": [
       " [1] \"Invoice.ID\"              \"Branch\"                 \n",
       " [3] \"Customer.type\"           \"Gender\"                 \n",
       " [5] \"Product.line\"            \"Unit.price\"             \n",
       " [7] \"Quantity\"                \"Tax\"                    \n",
       " [9] \"Payment\"                 \"cogs\"                   \n",
       "[11] \"gross.margin.percentage\" \"gross.income\"           \n",
       "[13] \"Rating\"                  \"Total\"                  \n",
       "[15] \"Date_Time\"              "
      ]
     },
     "metadata": {},
     "output_type": "display_data"
    }
   ],
   "source": [
    "# Dropping the unecessary Date and Time columns.\n",
    "super = super[,c(-9,-10)]\n",
    "names(super)"
   ]
  },
  {
   "cell_type": "code",
   "execution_count": 62,
   "metadata": {
    "ExecuteTime": {
     "end_time": "2020-03-23T12:52:14.094370Z",
     "start_time": "2020-03-23T12:52:14.015Z"
    }
   },
   "outputs": [],
   "source": [
    "# select numeric columns\n",
    "\n",
    "# Checking for outliers in the numerical columns\n",
    "# Importing the library dplyr\n",
    "\n",
    "library(dplyr)\n",
    "super_num <- select_if(super, is.numeric)"
   ]
  },
  {
   "cell_type": "code",
   "execution_count": 38,
   "metadata": {
    "ExecuteTime": {
     "end_time": "2020-03-23T12:42:30.195645Z",
     "start_time": "2020-03-23T12:42:29.890Z"
    }
   },
   "outputs": [
    {
     "name": "stderr",
     "output_type": "stream",
     "text": [
      "Warning message in cor(data.num):\n",
      "\"the standard deviation is zero\""
     ]
    },
    {
     "data": {
      "image/png": "[encoded data removed]",
      "text/plain": [
       "Plot with title \"\""
      ]
     },
     "metadata": {},
     "output_type": "display_data"
    }
   ],
   "source": [
    "# Correlation Matrix\n",
    "data.num <- super[, sapply(super, is.numeric)]\n",
    "data.cor = cor(data.num)\n",
    "\n",
    "library(corrplot)\n",
    "corrplot(data.cor, type = 'upper')"
   ]
  },
  {
   "cell_type": "markdown",
   "metadata": {},
   "source": [
    "#### Principal Component Analysis (PCA)\n",
    "\n",
    "Principal component analysis is the unsupervised learning methodology in which the data is converted from a high dimensional space into another space with lower or equal number of dimensions. In this lower dimensional space, the dimensions are the projections of variance of data. \n",
    "\n",
    "Note that PCA can be applied only to numeric data.\n",
    " "
   ]
  },
  {
   "cell_type": "code",
   "execution_count": 64,
   "metadata": {
    "ExecuteTime": {
     "end_time": "2020-03-23T12:53:22.270709Z",
     "start_time": "2020-03-23T12:53:22.205Z"
    }
   },
   "outputs": [
    {
     "data": {
      "text/html": [
       "<style>\n",
       ".list-inline {list-style: none; margin:0; padding: 0}\n",
       ".list-inline>li {display: inline-block}\n",
       ".list-inline>li:not(:last-child)::after {content: \"\\00b7\"; padding: 0 .5ex}\n",
       "</style>\n",
       "<ol class=list-inline><li>'Branch'</li><li>'Customer.type'</li><li>'Gender'</li><li>'Product.line'</li><li>'Unit.price'</li><li>'Quantity'</li><li>'Tax'</li><li>'Payment'</li><li>'cogs'</li><li>'gross.margin.percentage'</li><li>'gross.income'</li><li>'Rating'</li><li>'Total'</li></ol>\n"
      ],
      "text/latex": [
       "\\begin{enumerate*}\n",
       "\\item 'Branch'\n",
       "\\item 'Customer.type'\n",
       "\\item 'Gender'\n",
       "\\item 'Product.line'\n",
       "\\item 'Unit.price'\n",
       "\\item 'Quantity'\n",
       "\\item 'Tax'\n",
       "\\item 'Payment'\n",
       "\\item 'cogs'\n",
       "\\item 'gross.margin.percentage'\n",
       "\\item 'gross.income'\n",
       "\\item 'Rating'\n",
       "\\item 'Total'\n",
       "\\end{enumerate*}\n"
      ],
      "text/markdown": [
       "1. 'Branch'\n",
       "2. 'Customer.type'\n",
       "3. 'Gender'\n",
       "4. 'Product.line'\n",
       "5. 'Unit.price'\n",
       "6. 'Quantity'\n",
       "7. 'Tax'\n",
       "8. 'Payment'\n",
       "9. 'cogs'\n",
       "10. 'gross.margin.percentage'\n",
       "11. 'gross.income'\n",
       "12. 'Rating'\n",
       "13. 'Total'\n",
       "\n",
       "\n"
      ],
      "text/plain": [
       " [1] \"Branch\"                  \"Customer.type\"          \n",
       " [3] \"Gender\"                  \"Product.line\"           \n",
       " [5] \"Unit.price\"              \"Quantity\"               \n",
       " [7] \"Tax\"                     \"Payment\"                \n",
       " [9] \"cogs\"                    \"gross.margin.percentage\"\n",
       "[11] \"gross.income\"            \"Rating\"                 \n",
       "[13] \"Total\"                  "
      ]
     },
     "metadata": {},
     "output_type": "display_data"
    }
   ],
   "source": [
    "names(super_num)"
   ]
  },
  {
   "cell_type": "code",
   "execution_count": 65,
   "metadata": {
    "ExecuteTime": {
     "end_time": "2020-03-23T12:55:17.904083Z",
     "start_time": "2020-03-23T12:55:17.845Z"
    }
   },
   "outputs": [
    {
     "data": {
      "text/html": [
       "<style>\n",
       ".list-inline {list-style: none; margin:0; padding: 0}\n",
       ".list-inline>li {display: inline-block}\n",
       ".list-inline>li:not(:last-child)::after {content: \"\\00b7\"; padding: 0 .5ex}\n",
       "</style>\n",
       "<ol class=list-inline><li>'Branch'</li><li>'Customer.type'</li><li>'Gender'</li><li>'Unit.price'</li><li>'Quantity'</li><li>'Tax'</li><li>'Payment'</li><li>'cogs'</li><li>'gross.income'</li><li>'Rating'</li><li>'Total'</li></ol>\n"
      ],
      "text/latex": [
       "\\begin{enumerate*}\n",
       "\\item 'Branch'\n",
       "\\item 'Customer.type'\n",
       "\\item 'Gender'\n",
       "\\item 'Unit.price'\n",
       "\\item 'Quantity'\n",
       "\\item 'Tax'\n",
       "\\item 'Payment'\n",
       "\\item 'cogs'\n",
       "\\item 'gross.income'\n",
       "\\item 'Rating'\n",
       "\\item 'Total'\n",
       "\\end{enumerate*}\n"
      ],
      "text/markdown": [
       "1. 'Branch'\n",
       "2. 'Customer.type'\n",
       "3. 'Gender'\n",
       "4. 'Unit.price'\n",
       "5. 'Quantity'\n",
       "6. 'Tax'\n",
       "7. 'Payment'\n",
       "8. 'cogs'\n",
       "9. 'gross.income'\n",
       "10. 'Rating'\n",
       "11. 'Total'\n",
       "\n",
       "\n"
      ],
      "text/plain": [
       " [1] \"Branch\"        \"Customer.type\" \"Gender\"        \"Unit.price\"   \n",
       " [5] \"Quantity\"      \"Tax\"           \"Payment\"       \"cogs\"         \n",
       " [9] \"gross.income\"  \"Rating\"        \"Total\"        "
      ]
     },
     "metadata": {},
     "output_type": "display_data"
    }
   ],
   "source": [
    "super_num = super_num[,c(-4, -10)]\n",
    "names(super_num)"
   ]
  },
  {
   "cell_type": "code",
   "execution_count": 66,
   "metadata": {
    "ExecuteTime": {
     "end_time": "2020-03-23T12:55:21.478157Z",
     "start_time": "2020-03-23T12:55:21.417Z"
    },
    "scrolled": true
   },
   "outputs": [
    {
     "data": {
      "text/plain": [
       "Importance of components:\n",
       "                          PC1    PC2    PC3     PC4     PC5     PC6     PC7\n",
       "Standard deviation     2.1144 1.0556 1.0085 0.98601 0.97719 0.96994 0.72791\n",
       "Proportion of Variance 0.4471 0.1114 0.1017 0.09722 0.09549 0.09408 0.05298\n",
       "Cumulative Proportion  0.4471 0.5585 0.6602 0.75745 0.85294 0.94702 1.00000\n",
       "                             PC8      PC9      PC10\n",
       "Standard deviation     1.683e-16 1.03e-16 3.866e-17\n",
       "Proportion of Variance 0.000e+00 0.00e+00 0.000e+00\n",
       "Cumulative Proportion  1.000e+00 1.00e+00 1.000e+00"
      ]
     },
     "metadata": {},
     "output_type": "display_data"
    }
   ],
   "source": [
    "# We will use the numrical data and drop the categorical.\n",
    "# Since algo cannot rescale a constant/zero column to unit variance, we drop gross.margin. production\n",
    "# It only has one value 4.761905\n",
    "\n",
    "# We then pass data.num to the prcomp(). \n",
    "# We set two arguments, center and scale to be TRUE then preview our object with summary\n",
    "\n",
    "super_num.pca <- prcomp(super_num[, c(-5)], center = TRUE, scale. = T)\n",
    "summary(super_num.pca)"
   ]
  },
  {
   "cell_type": "markdown",
   "metadata": {},
   "source": [
    "Each explain a percentate of the total variation of the dataset'\n",
    "- PC1 explains 44.71% of the total variance\n",
    "- PC2 explains 11.14% of the variance and so on.\n",
    "\n",
    "By PC7, we have 89% of the total variance explained by the components"
   ]
  },
  {
   "cell_type": "code",
   "execution_count": 67,
   "metadata": {
    "ExecuteTime": {
     "end_time": "2020-03-23T12:55:32.667674Z",
     "start_time": "2020-03-23T12:55:32.595Z"
    }
   },
   "outputs": [
    {
     "name": "stdout",
     "output_type": "stream",
     "text": [
      "List of 5\n",
      " $ sdev    : num [1:10] 2.114 1.056 1.009 0.986 0.977 ...\n",
      " $ rotation: num [1:10, 1:10] 0.0255 -0.0132 -0.0259 0.343 0.4691 ...\n",
      "  ..- attr(*, \"dimnames\")=List of 2\n",
      "  .. ..$ : chr [1:10] \"Branch\" \"Customer.type\" \"Gender\" \"Unit.price\" ...\n",
      "  .. ..$ : chr [1:10] \"PC1\" \"PC2\" \"PC3\" \"PC4\" ...\n",
      " $ center  : Named num [1:10] 1.99 1.5 1.5 55.67 15.38 ...\n",
      "  ..- attr(*, \"names\")= chr [1:10] \"Branch\" \"Customer.type\" \"Gender\" \"Unit.price\" ...\n",
      " $ scale   : Named num [1:10] 0.818 0.5 0.5 26.495 11.709 ...\n",
      "  ..- attr(*, \"names\")= chr [1:10] \"Branch\" \"Customer.type\" \"Gender\" \"Unit.price\" ...\n",
      " $ x       : num [1:1000, 1:10] 1.9429 -2.3519 -0.0621 1.2289 2.7123 ...\n",
      "  ..- attr(*, \"dimnames\")=List of 2\n",
      "  .. ..$ : NULL\n",
      "  .. ..$ : chr [1:10] \"PC1\" \"PC2\" \"PC3\" \"PC4\" ...\n",
      " - attr(*, \"class\")= chr \"prcomp\"\n"
     ]
    }
   ],
   "source": [
    "# We then call str() to have a look at the PCA object.\n",
    "\n",
    "str(super_num.pca)"
   ]
  },
  {
   "cell_type": "code",
   "execution_count": 69,
   "metadata": {
    "ExecuteTime": {
     "end_time": "2020-03-23T12:55:47.866112Z",
     "start_time": "2020-03-23T12:55:46.601Z"
    }
   },
   "outputs": [
    {
     "data": {
      "image/png": "[encoded data removed]",
      "text/plain": [
       "plot without title"
      ]
     },
     "metadata": {},
     "output_type": "display_data"
    }
   ],
   "source": [
    "biplot(super_num.pca)"
   ]
  }
 ],
 "metadata": {
  "kernelspec": {
   "display_name": "R",
   "language": "R",
   "name": "ir"
  },
  "language_info": {
   "codemirror_mode": "r",
   "file_extension": ".r",
   "mimetype": "text/x-r-source",
   "name": "R",
   "pygments_lexer": "r",
   "version": "3.6.2"
  },
  "toc": {
   "base_numbering": 1,
   "nav_menu": {},
   "number_sections": true,
   "sideBar": true,
   "skip_h1_title": false,
   "title_cell": "Table of Contents",
   "title_sidebar": "Contents",
   "toc_cell": false,
   "toc_position": {
    "height": "calc(100% - 180px)",
    "left": "10px",
    "top": "150px",
    "width": "165px"
   },
   "toc_section_display": true,
   "toc_window_display": true
  }
 },
 "nbformat": 4,
 "nbformat_minor": 4
}
