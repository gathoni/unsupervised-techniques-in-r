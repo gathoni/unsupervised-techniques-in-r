{
 "cells": [
  {
   "cell_type": "markdown",
   "metadata": {},
   "source": [
    "### Context\n",
    "\n",
    "You are a Data analyst at Carrefour Kenya and are currently undertaking a project that will inform the marketing department on the most relevant marketing strategies that will result in the highest no. of sales (total price including tax). Your project has been divided into three parts where you'll explore a recent marketing dataset by performing various unsupervised learning techniques and later providing recommendations based on your insights.\n",
    "\n",
    "#### Association Rules\n",
    "\n",
    "This section will require that you create association rules that will allow you to identify relationships between variables in the dataset. You are provided with a separate dataset that comprises groups of items that will be associated with others. Just like in the other sections, you will also be required to provide insights for your analysis."
   ]
  },
  {
   "cell_type": "code",
   "execution_count": 8,
   "metadata": {
    "ExecuteTime": {
     "end_time": "2020-03-16T17:38:42.893797Z",
     "start_time": "2020-03-16T17:36:35.949Z"
    }
   },
   "outputs": [
    {
     "name": "stderr",
     "output_type": "stream",
     "text": [
      "Installing package into 'C:/Users/lggat/OneDrive/Documents/R/win-library/3.6'\n",
      "(as 'lib' is unspecified)\n"
     ]
    },
    {
     "name": "stdout",
     "output_type": "stream",
     "text": [
      "package 'arules' successfully unpacked and MD5 sums checked\n",
      "\n",
      "The downloaded binary packages are in\n",
      "\tC:\\Users\\lggat\\AppData\\Local\\Temp\\RtmpeK1bmC\\downloaded_packages\n"
     ]
    },
    {
     "name": "stderr",
     "output_type": "stream",
     "text": [
      "Warning message:\n",
      "\"package 'arules' was built under R version 3.6.3\"Loading required package: Matrix\n",
      "Warning message:\n",
      "\"package 'Matrix' was built under R version 3.6.3\"\n",
      "Attaching package: 'arules'\n",
      "\n",
      "The following objects are masked from 'package:base':\n",
      "\n",
      "    abbreviate, write\n",
      "\n"
     ]
    }
   ],
   "source": [
    "# We first we install the required arules library \n",
    "#\n",
    "# install.packages(\"arules\")\n",
    "\n",
    "# Loading the arules library\n",
    "#\n",
    "library(arules)"
   ]
  },
  {
   "cell_type": "code",
   "execution_count": 11,
   "metadata": {
    "ExecuteTime": {
     "end_time": "2020-03-16T17:41:14.927185Z",
     "start_time": "2020-03-16T17:40:40.097Z"
    },
    "run_control": {
     "marked": true
    }
   },
   "outputs": [
    {
     "name": "stderr",
     "output_type": "stream",
     "text": [
      "Warning message in asMethod(object):\n",
      "\"removing duplicated items in transactions\""
     ]
    }
   ],
   "source": [
    "# load data\n",
    "path <-\"http://bit.ly/SupermarketDatasetII\"\n",
    "\n",
    "data<-read.transactions(path, sep = \",\")"
   ]
  },
  {
   "cell_type": "code",
   "execution_count": 12,
   "metadata": {
    "ExecuteTime": {
     "end_time": "2020-03-16T17:41:21.462432Z",
     "start_time": "2020-03-16T17:41:21.390Z"
    }
   },
   "outputs": [
    {
     "data": {
      "text/html": [
       "'transactions'"
      ],
      "text/latex": [
       "'transactions'"
      ],
      "text/markdown": [
       "'transactions'"
      ],
      "text/plain": [
       "[1] \"transactions\"\n",
       "attr(,\"package\")\n",
       "[1] \"arules\""
      ]
     },
     "metadata": {},
     "output_type": "display_data"
    }
   ],
   "source": [
    "# Verifying the object's class\n",
    "# ---\n",
    "# This should show us transactions as the type of data that we will need\n",
    "# ---\n",
    "# \n",
    "class(data)"
   ]
  },
  {
   "cell_type": "code",
   "execution_count": 15,
   "metadata": {
    "ExecuteTime": {
     "end_time": "2020-03-16T17:41:39.207251Z",
     "start_time": "2020-03-16T17:41:39.120Z"
    }
   },
   "outputs": [
    {
     "name": "stdout",
     "output_type": "stream",
     "text": [
      "    items              \n",
      "[1] {almonds,          \n",
      "     antioxydant juice,\n",
      "     avocado,          \n",
      "     cottage cheese,   \n",
      "     energy drink,     \n",
      "     frozen smoothie,  \n",
      "     green grapes,     \n",
      "     green tea,        \n",
      "     honey,            \n",
      "     low fat yogurt,   \n",
      "     mineral water,    \n",
      "     olive oil,        \n",
      "     salad,            \n",
      "     salmon,           \n",
      "     shrimp,           \n",
      "     spinach,          \n",
      "     tomato juice,     \n",
      "     vegetables mix,   \n",
      "     whole weat flour, \n",
      "     yams}             \n",
      "[2] {burgers,          \n",
      "     eggs,             \n",
      "     meatballs}        \n",
      "[3] {chutney}          \n",
      "[4] {avocado,          \n",
      "     turkey}           \n",
      "[5] {energy bar,       \n",
      "     green tea,        \n",
      "     milk,             \n",
      "     mineral water,    \n",
      "     whole wheat rice} \n"
     ]
    }
   ],
   "source": [
    "# Previewing our first 5 transactions\n",
    "#\n",
    "inspect(data[1:5])"
   ]
  },
  {
   "cell_type": "code",
   "execution_count": 16,
   "metadata": {
    "ExecuteTime": {
     "end_time": "2020-03-16T17:42:04.988119Z",
     "start_time": "2020-03-16T17:42:04.757Z"
    }
   },
   "outputs": [
    {
     "data": {
      "text/html": [
       "<table>\n",
       "<caption>A data.frame: 10 × 1</caption>\n",
       "<thead>\n",
       "\t<tr><th></th><th scope=col>Item</th></tr>\n",
       "\t<tr><th></th><th scope=col>&lt;fct&gt;</th></tr>\n",
       "</thead>\n",
       "<tbody>\n",
       "\t<tr><th scope=row>1</th><td>almonds          </td></tr>\n",
       "\t<tr><th scope=row>2</th><td>antioxydant juice</td></tr>\n",
       "\t<tr><th scope=row>3</th><td>asparagus        </td></tr>\n",
       "\t<tr><th scope=row>4</th><td>avocado          </td></tr>\n",
       "\t<tr><th scope=row>5</th><td>babies food      </td></tr>\n",
       "\t<tr><th scope=row>6</th><td>bacon            </td></tr>\n",
       "\t<tr><th scope=row>7</th><td>barbecue sauce   </td></tr>\n",
       "\t<tr><th scope=row>8</th><td>black tea        </td></tr>\n",
       "\t<tr><th scope=row>9</th><td>blueberries      </td></tr>\n",
       "\t<tr><th scope=row>10</th><td>body spray       </td></tr>\n",
       "</tbody>\n",
       "</table>\n"
      ],
      "text/latex": [
       "A data.frame: 10 × 1\n",
       "\\begin{tabular}{r|l}\n",
       "  & Item\\\\\n",
       "  & <fct>\\\\\n",
       "\\hline\n",
       "\t1 & almonds          \\\\\n",
       "\t2 & antioxydant juice\\\\\n",
       "\t3 & asparagus        \\\\\n",
       "\t4 & avocado          \\\\\n",
       "\t5 & babies food      \\\\\n",
       "\t6 & bacon            \\\\\n",
       "\t7 & barbecue sauce   \\\\\n",
       "\t8 & black tea        \\\\\n",
       "\t9 & blueberries      \\\\\n",
       "\t10 & body spray       \\\\\n",
       "\\end{tabular}\n"
      ],
      "text/markdown": [
       "\n",
       "A data.frame: 10 × 1\n",
       "\n",
       "| <!--/--> | Item &lt;fct&gt; |\n",
       "|---|---|\n",
       "| 1 | almonds           |\n",
       "| 2 | antioxydant juice |\n",
       "| 3 | asparagus         |\n",
       "| 4 | avocado           |\n",
       "| 5 | babies food       |\n",
       "| 6 | bacon             |\n",
       "| 7 | barbecue sauce    |\n",
       "| 8 | black tea         |\n",
       "| 9 | blueberries       |\n",
       "| 10 | body spray        |\n",
       "\n"
      ],
      "text/plain": [
       "   Item             \n",
       "1  almonds          \n",
       "2  antioxydant juice\n",
       "3  asparagus        \n",
       "4  avocado          \n",
       "5  babies food      \n",
       "6  bacon            \n",
       "7  barbecue sauce   \n",
       "8  black tea        \n",
       "9  blueberries      \n",
       "10 body spray       "
      ]
     },
     "metadata": {},
     "output_type": "display_data"
    }
   ],
   "source": [
    "# If we wanted to preview the items that make up our dataset,\n",
    "# alternatively we can do the following\n",
    "# ---\n",
    "# \n",
    "items<-as.data.frame(itemLabels(data))\n",
    "colnames(items) <- \"Item\"\n",
    "head(items, 10) "
   ]
  },
  {
   "cell_type": "code",
   "execution_count": 17,
   "metadata": {
    "ExecuteTime": {
     "end_time": "2020-03-16T17:42:27.786021Z",
     "start_time": "2020-03-16T17:42:27.681Z"
    }
   },
   "outputs": [
    {
     "data": {
      "text/plain": [
       "transactions as itemMatrix in sparse format with\n",
       " 7501 rows (elements/itemsets/transactions) and\n",
       " 119 columns (items) and a density of 0.03288973 \n",
       "\n",
       "most frequent items:\n",
       "mineral water          eggs     spaghetti  french fries     chocolate \n",
       "         1788          1348          1306          1282          1229 \n",
       "      (Other) \n",
       "        22405 \n",
       "\n",
       "element (itemset/transaction) length distribution:\n",
       "sizes\n",
       "   1    2    3    4    5    6    7    8    9   10   11   12   13   14   15   16 \n",
       "1754 1358 1044  816  667  493  391  324  259  139  102   67   40   22   17    4 \n",
       "  18   19   20 \n",
       "   1    2    1 \n",
       "\n",
       "   Min. 1st Qu.  Median    Mean 3rd Qu.    Max. \n",
       "  1.000   2.000   3.000   3.914   5.000  20.000 \n",
       "\n",
       "includes extended item information - examples:\n",
       "             labels\n",
       "1           almonds\n",
       "2 antioxydant juice\n",
       "3         asparagus"
      ]
     },
     "metadata": {},
     "output_type": "display_data"
    }
   ],
   "source": [
    "# Generating a summary of the data dataset\n",
    "# ---\n",
    "# This would give us some information such as the most purchased items, \n",
    "# distribution of the item sets (no. of items purchased in each transaction), etc.\n",
    "# ---\n",
    "# \n",
    "summary(data)"
   ]
  },
  {
   "cell_type": "markdown",
   "metadata": {},
   "source": [
    "<b>We observe that we have 7501 rows and 199 columns with the most frequent items being mineral water and eggs.</b>"
   ]
  },
  {
   "cell_type": "code",
   "execution_count": 19,
   "metadata": {
    "ExecuteTime": {
     "end_time": "2020-03-16T17:44:32.464098Z",
     "start_time": "2020-03-16T17:44:32.380Z"
    }
   },
   "outputs": [
    {
     "data": {
      "text/html": [
       "<style>\n",
       ".dl-inline {width: auto; margin:0; padding: 0}\n",
       ".dl-inline>dt, .dl-inline>dd {float: none; width: auto; display: inline-block}\n",
       ".dl-inline>dt::after {content: \":\\0020\"; padding-right: .5ex}\n",
       ".dl-inline>dt:not(:first-of-type) {padding-left: .5ex}\n",
       "</style><dl class=dl-inline><dt>asparagus</dt><dd>36</dd><dt>avocado</dt><dd>250</dd><dt>babies food</dt><dd>34</dd><dt>bacon</dt><dd>65</dd><dt>barbecue sauce</dt><dd>81</dd><dt>black tea</dt><dd>107</dd><dt>blueberries</dt><dd>69</dd><dt>body spray</dt><dd>86</dd></dl>\n"
      ],
      "text/latex": [
       "\\begin{description*}\n",
       "\\item[asparagus] 36\n",
       "\\item[avocado] 250\n",
       "\\item[babies food] 34\n",
       "\\item[bacon] 65\n",
       "\\item[barbecue sauce] 81\n",
       "\\item[black tea] 107\n",
       "\\item[blueberries] 69\n",
       "\\item[body spray] 86\n",
       "\\end{description*}\n"
      ],
      "text/markdown": [
       "asparagus\n",
       ":   36avocado\n",
       ":   250babies food\n",
       ":   34bacon\n",
       ":   65barbecue sauce\n",
       ":   81black tea\n",
       ":   107blueberries\n",
       ":   69body spray\n",
       ":   86\n",
       "\n"
      ],
      "text/plain": [
       "     asparagus        avocado    babies food          bacon barbecue sauce \n",
       "            36            250             34             65             81 \n",
       "     black tea    blueberries     body spray \n",
       "           107             69             86 "
      ]
     },
     "metadata": {},
     "output_type": "display_data"
    },
    {
     "data": {
      "text/html": [
       "<style>\n",
       ".dl-inline {width: auto; margin:0; padding: 0}\n",
       ".dl-inline>dt, .dl-inline>dd {float: none; width: auto; display: inline-block}\n",
       ".dl-inline>dt::after {content: \":\\0020\"; padding-right: .5ex}\n",
       ".dl-inline>dt:not(:first-of-type) {padding-left: .5ex}\n",
       "</style><dl class=dl-inline><dt>asparagus</dt><dd>0.48</dd><dt>avocado</dt><dd>3.33</dd><dt>babies food</dt><dd>0.45</dd><dt>bacon</dt><dd>0.87</dd><dt>barbecue sauce</dt><dd>1.08</dd><dt>black tea</dt><dd>1.43</dd><dt>blueberries</dt><dd>0.92</dd><dt>body spray</dt><dd>1.15</dd></dl>\n"
      ],
      "text/latex": [
       "\\begin{description*}\n",
       "\\item[asparagus] 0.48\n",
       "\\item[avocado] 3.33\n",
       "\\item[babies food] 0.45\n",
       "\\item[bacon] 0.87\n",
       "\\item[barbecue sauce] 1.08\n",
       "\\item[black tea] 1.43\n",
       "\\item[blueberries] 0.92\n",
       "\\item[body spray] 1.15\n",
       "\\end{description*}\n"
      ],
      "text/markdown": [
       "asparagus\n",
       ":   0.48avocado\n",
       ":   3.33babies food\n",
       ":   0.45bacon\n",
       ":   0.87barbecue sauce\n",
       ":   1.08black tea\n",
       ":   1.43blueberries\n",
       ":   0.92body spray\n",
       ":   1.15\n",
       "\n"
      ],
      "text/plain": [
       "     asparagus        avocado    babies food          bacon barbecue sauce \n",
       "          0.48           3.33           0.45           0.87           1.08 \n",
       "     black tea    blueberries     body spray \n",
       "          1.43           0.92           1.15 "
      ]
     },
     "metadata": {},
     "output_type": "display_data"
    }
   ],
   "source": [
    "# Exploring the frequency of some articles \n",
    "# i.e. transactions ranging from 3 to 10 and performing \n",
    "# some operation in percentage terms of the total transactions \n",
    "# \n",
    "itemFrequency(data[, 3:10],type = \"absolute\")\n",
    "round(itemFrequency(data[, 3:10],type = \"relative\")*100,2)"
   ]
  },
  {
   "cell_type": "code",
   "execution_count": 22,
   "metadata": {
    "ExecuteTime": {
     "end_time": "2020-03-16T17:45:44.183465Z",
     "start_time": "2020-03-16T17:45:43.993Z"
    }
   },
   "outputs": [
    {
     "data": {
      "image/png": "[encoded data removed]",
      "text/plain": [
       "plot without title"
      ]
     },
     "metadata": {},
     "output_type": "display_data"
    }
   ],
   "source": [
    "# Producing a chart of frequencies and filtering \n",
    "# to consider only items with a minimum percentage \n",
    "# of support/ considering a top x of items\n",
    "# ---\n",
    "# Displaying top 10 most common items in the transactions dataset \n",
    "# and the items whose relative importance is at least 10%\n",
    "# \n",
    "par(mfrow = c(1, 2))\n",
    "\n",
    "# plot the frequency of items\n",
    "itemFrequencyPlot(data, topN = 10,col=\"skyblue\")\n",
    "itemFrequencyPlot(data, support = 0.1,col=\"purple\")"
   ]
  },
  {
   "cell_type": "code",
   "execution_count": 23,
   "metadata": {
    "ExecuteTime": {
     "end_time": "2020-03-16T17:46:41.244049Z",
     "start_time": "2020-03-16T17:46:41.018Z"
    }
   },
   "outputs": [
    {
     "name": "stdout",
     "output_type": "stream",
     "text": [
      "Apriori\n",
      "\n",
      "Parameter specification:\n",
      " confidence minval smax arem  aval originalSupport maxtime support minlen\n",
      "        0.8    0.1    1 none FALSE            TRUE       5   0.001      1\n",
      " maxlen target   ext\n",
      "     10  rules FALSE\n",
      "\n",
      "Algorithmic control:\n",
      " filter tree heap memopt load sort verbose\n",
      "    0.1 TRUE TRUE  FALSE TRUE    2    TRUE\n",
      "\n",
      "Absolute minimum support count: 7 \n",
      "\n",
      "set item appearances ...[0 item(s)] done [0.00s].\n",
      "set transactions ...[119 item(s), 7501 transaction(s)] done [0.00s].\n",
      "sorting and recoding items ... [116 item(s)] done [0.00s].\n",
      "creating transaction tree ... done [0.00s].\n",
      "checking subsets of size 1 2 3 4 5 6 done [0.01s].\n",
      "writing ... [74 rule(s)] done [0.00s].\n",
      "creating S4 object  ... done [0.00s].\n"
     ]
    },
    {
     "data": {
      "text/plain": [
       "set of 74 rules "
      ]
     },
     "metadata": {},
     "output_type": "display_data"
    }
   ],
   "source": [
    "# Building a model based on association rules \n",
    "# using the apriori function \n",
    "# ---\n",
    "# We use Min Support as 0.001 and confidence as 0.8\n",
    "# ---\n",
    "# \n",
    "rules <- apriori (data, parameter = list(supp = 0.001, conf = 0.8))\n",
    "rules"
   ]
  },
  {
   "cell_type": "code",
   "execution_count": 24,
   "metadata": {
    "ExecuteTime": {
     "end_time": "2020-03-16T17:47:24.603717Z",
     "start_time": "2020-03-16T17:47:24.447Z"
    }
   },
   "outputs": [
    {
     "name": "stdout",
     "output_type": "stream",
     "text": [
      "Apriori\n",
      "\n",
      "Parameter specification:\n",
      " confidence minval smax arem  aval originalSupport maxtime support minlen\n",
      "        0.8    0.1    1 none FALSE            TRUE       5   0.002      1\n",
      " maxlen target   ext\n",
      "     10  rules FALSE\n",
      "\n",
      "Algorithmic control:\n",
      " filter tree heap memopt load sort verbose\n",
      "    0.1 TRUE TRUE  FALSE TRUE    2    TRUE\n",
      "\n",
      "Absolute minimum support count: 15 \n",
      "\n",
      "set item appearances ...[0 item(s)] done [0.00s].\n",
      "set transactions ...[119 item(s), 7501 transaction(s)] done [0.00s].\n",
      "sorting and recoding items ... [115 item(s)] done [0.00s].\n",
      "creating transaction tree ... done [0.00s].\n",
      "checking subsets of size 1 2 3 4 5 done [0.00s].\n",
      "writing ... [2 rule(s)] done [0.00s].\n",
      "creating S4 object  ... done [0.00s].\n",
      "Apriori\n",
      "\n",
      "Parameter specification:\n",
      " confidence minval smax arem  aval originalSupport maxtime support minlen\n",
      "        0.6    0.1    1 none FALSE            TRUE       5   0.001      1\n",
      " maxlen target   ext\n",
      "     10  rules FALSE\n",
      "\n",
      "Algorithmic control:\n",
      " filter tree heap memopt load sort verbose\n",
      "    0.1 TRUE TRUE  FALSE TRUE    2    TRUE\n",
      "\n",
      "Absolute minimum support count: 7 \n",
      "\n",
      "set item appearances ...[0 item(s)] done [0.00s].\n",
      "set transactions ...[119 item(s), 7501 transaction(s)] done [0.01s].\n",
      "sorting and recoding items ... [116 item(s)] done [0.00s].\n",
      "creating transaction tree ... done [0.00s].\n",
      "checking subsets of size 1 2 3 4 5 6 done [0.01s].\n",
      "writing ... [545 rule(s)] done [0.00s].\n",
      "creating S4 object  ... done [0.00s].\n"
     ]
    },
    {
     "data": {
      "text/plain": [
       "set of 2 rules "
      ]
     },
     "metadata": {},
     "output_type": "display_data"
    },
    {
     "data": {
      "text/plain": [
       "set of 545 rules "
      ]
     },
     "metadata": {},
     "output_type": "display_data"
    }
   ],
   "source": [
    "# We use measures of significance and interest on the rules, \n",
    "# determining which ones are interesting and which to discard.\n",
    "# ---\n",
    "# However since we built the model using 0.001 Min support \n",
    "# and confidence as 0.8 we obtained 74 rules.\n",
    "# However, in order to illustrate the sensitivity of the model to these two parameters, \n",
    "# we will see what happens if we increase the support or lower the confidence level\n",
    "# \n",
    "\n",
    "# Building a apriori model with Min Support as 0.002 and confidence as 0.8.\n",
    "rules2 <- apriori (data,parameter = list(supp = 0.002, conf = 0.8)) \n",
    "\n",
    "# Building apriori model with Min Support as 0.002 and confidence as 0.6.\n",
    "rules3 <- apriori (data, parameter = list(supp = 0.001, conf = 0.6)) \n",
    "\n",
    "rules2\n",
    "\n",
    "rules3"
   ]
  },
  {
   "cell_type": "markdown",
   "metadata": {},
   "source": [
    "<b>In our first model, we increased the minimum support of 0.001 to 0.002 and model rules went from 74 to only 2. This would lead us to understand that using a high level of support can make the model lose interesting rules. \n",
    "    \n",
    " In the second model, we decreased the minimum confidence level to 0.6 and the number of model rules went from 74 to 545. This would mean that using a low confidence level increases the number of rules to quite an extent and many will not be useful.</b>"
   ]
  },
  {
   "cell_type": "code",
   "execution_count": 25,
   "metadata": {
    "ExecuteTime": {
     "end_time": "2020-03-16T17:47:52.451637Z",
     "start_time": "2020-03-16T17:47:52.393Z"
    }
   },
   "outputs": [
    {
     "data": {
      "text/plain": [
       "set of 74 rules\n",
       "\n",
       "rule length distribution (lhs + rhs):sizes\n",
       " 3  4  5  6 \n",
       "15 42 16  1 \n",
       "\n",
       "   Min. 1st Qu.  Median    Mean 3rd Qu.    Max. \n",
       "  3.000   4.000   4.000   4.041   4.000   6.000 \n",
       "\n",
       "summary of quality measures:\n",
       "    support           confidence          lift            count       \n",
       " Min.   :0.001067   Min.   :0.8000   Min.   : 3.356   Min.   : 8.000  \n",
       " 1st Qu.:0.001067   1st Qu.:0.8000   1st Qu.: 3.432   1st Qu.: 8.000  \n",
       " Median :0.001133   Median :0.8333   Median : 3.795   Median : 8.500  \n",
       " Mean   :0.001256   Mean   :0.8504   Mean   : 4.823   Mean   : 9.419  \n",
       " 3rd Qu.:0.001333   3rd Qu.:0.8889   3rd Qu.: 4.877   3rd Qu.:10.000  \n",
       " Max.   :0.002533   Max.   :1.0000   Max.   :12.722   Max.   :19.000  \n",
       "\n",
       "mining info:\n",
       " data ntransactions support confidence\n",
       " data          7501   0.001        0.8"
      ]
     },
     "metadata": {},
     "output_type": "display_data"
    }
   ],
   "source": [
    "# We can perform an exploration of our model \n",
    "# through the use of the summary function as shown\n",
    "# ---\n",
    "# Upon running the code, the function would give us information about the model \n",
    "# i.e. the size of rules, depending on the items that contain these rules. \n",
    "# In our above case, most rules have 3 and 4 items though some rules do have upto 6. \n",
    "# More statistical information such as support, lift and confidence is also provided.\n",
    "# ---\n",
    "# \n",
    "summary(rules)"
   ]
  },
  {
   "cell_type": "code",
   "execution_count": 26,
   "metadata": {
    "ExecuteTime": {
     "end_time": "2020-03-16T17:51:58.556559Z",
     "start_time": "2020-03-16T17:51:58.436Z"
    }
   },
   "outputs": [
    {
     "name": "stdout",
     "output_type": "stream",
     "text": [
      "    lhs                             rhs             support     confidence\n",
      "[1] {frozen smoothie,spinach}    => {mineral water} 0.001066524 0.8888889 \n",
      "[2] {bacon,pancakes}             => {spaghetti}     0.001733102 0.8125000 \n",
      "[3] {nonfat milk,turkey}         => {mineral water} 0.001199840 0.8181818 \n",
      "[4] {ground beef,nonfat milk}    => {mineral water} 0.001599787 0.8571429 \n",
      "[5] {mushroom cream sauce,pasta} => {escalope}      0.002532996 0.9500000 \n",
      "    lift      count\n",
      "[1]  3.729058  8   \n",
      "[2]  4.666587 13   \n",
      "[3]  3.432428  9   \n",
      "[4]  3.595877 12   \n",
      "[5] 11.976387 19   \n"
     ]
    }
   ],
   "source": [
    "# Observing rules built in our model i.e. first 5 model rules\n",
    "# ---\n",
    "# \n",
    "inspect(rules[1:5])"
   ]
  },
  {
   "cell_type": "markdown",
   "metadata": {},
   "source": [
    "<b>Interpretation of the first rule:</b>\n",
    "\n",
    "- If someone buys frozen smoothie and spinach, they are 89% likely to buy mineral water too"
   ]
  },
  {
   "cell_type": "code",
   "execution_count": 27,
   "metadata": {
    "ExecuteTime": {
     "end_time": "2020-03-16T17:54:53.559558Z",
     "start_time": "2020-03-16T17:54:53.353Z"
    }
   },
   "outputs": [
    {
     "name": "stdout",
     "output_type": "stream",
     "text": [
      "    lhs                                          rhs             support    \n",
      "[1] {french fries,mushroom cream sauce,pasta} => {escalope}      0.001066524\n",
      "[2] {ground beef,light cream,olive oil}       => {mineral water} 0.001199840\n",
      "[3] {cake,meatballs,mineral water}            => {milk}          0.001066524\n",
      "[4] {cake,olive oil,shrimp}                   => {mineral water} 0.001199840\n",
      "[5] {mushroom cream sauce,pasta}              => {escalope}      0.002532996\n",
      "    confidence lift      count\n",
      "[1] 1.00       12.606723  8   \n",
      "[2] 1.00        4.195190  9   \n",
      "[3] 1.00        7.717078  8   \n",
      "[4] 1.00        4.195190  9   \n",
      "[5] 0.95       11.976387 19   \n"
     ]
    }
   ],
   "source": [
    "# Ordering these rules by a criteria such as the level of confidence\n",
    "# then looking at the first five rules.\n",
    "# We can also use different criteria such as: (by = \"lift\" or by = \"support\")\n",
    "# \n",
    "rules<-sort(rules, by=\"confidence\", decreasing=TRUE)\n",
    "inspect(rules[1:5])"
   ]
  },
  {
   "cell_type": "markdown",
   "metadata": {},
   "source": [
    "<b>Interpretation</b>\n",
    "\n",
    "- The given first four rules have a confidence of 100"
   ]
  },
  {
   "cell_type": "code",
   "execution_count": 28,
   "metadata": {
    "ExecuteTime": {
     "end_time": "2020-03-16T17:56:56.129700Z",
     "start_time": "2020-03-16T17:56:55.968Z"
    }
   },
   "outputs": [
    {
     "name": "stdout",
     "output_type": "stream",
     "text": [
      "    lhs                    rhs                 support confidence     lift count\n",
      "[1] {ground beef,                                                               \n",
      "     light cream,                                                               \n",
      "     olive oil}         => {mineral water} 0.001199840  1.0000000 4.195190     9\n",
      "[2] {cake,                                                                      \n",
      "     olive oil,                                                                 \n",
      "     shrimp}            => {mineral water} 0.001199840  1.0000000 4.195190     9\n",
      "[3] {red wine,                                                                  \n",
      "     soup}              => {mineral water} 0.001866418  0.9333333 3.915511    14\n",
      "[4] {ground beef,                                                               \n",
      "     pancakes,                                                                  \n",
      "     whole wheat rice}  => {mineral water} 0.001333156  0.9090909 3.813809    10\n",
      "[5] {frozen vegetables,                                                         \n",
      "     milk,                                                                      \n",
      "     spaghetti,                                                                 \n",
      "     turkey}            => {mineral water} 0.001199840  0.9000000 3.775671     9\n"
     ]
    }
   ],
   "source": [
    "# If we're interested in making a promotion relating to the sale of mineral water, \n",
    "# we could create a subset of rules concerning these products \n",
    "# ---\n",
    "# This would tell us the items that the customers bought before purchasing mineral\n",
    "# ---\n",
    "# \n",
    "mineral_water <- subset(rules, subset = rhs %pin% \"mineral water\")\n",
    " \n",
    "# Then order by confidence\n",
    "mineral_water<-sort(mineral_water, by=\"confidence\", decreasing=TRUE)\n",
    "inspect(mineral_water[1:5])"
   ]
  },
  {
   "cell_type": "markdown",
   "metadata": {},
   "source": [
    "<b>Observation</b>\n",
    "- The first 5 gives 90% confidence"
   ]
  },
  {
   "cell_type": "code",
   "execution_count": 29,
   "metadata": {
    "ExecuteTime": {
     "end_time": "2020-03-16T17:58:04.863795Z",
     "start_time": "2020-03-16T17:58:04.505Z"
    }
   },
   "outputs": [
    {
     "name": "stdout",
     "output_type": "stream",
     "text": [
      "    lhs                                   rhs           support     confidence\n",
      "[1] {cake,meatballs,mineral water}     => {milk}        0.001066524 1.0000000 \n",
      "[2] {eggs,mineral water,pasta}         => {shrimp}      0.001333156 0.9090909 \n",
      "[3] {herb & pepper,mineral water,rice} => {ground beef} 0.001333156 0.9090909 \n",
      "[4] {light cream,mineral water,shrimp} => {spaghetti}   0.001066524 0.8888889 \n",
      "[5] {grated cheese,mineral water,rice} => {ground beef} 0.001066524 0.8888889 \n",
      "    lift      count\n",
      "[1]  7.717078  8   \n",
      "[2] 12.722185 10   \n",
      "[3]  9.252498 10   \n",
      "[4]  5.105326  8   \n",
      "[5]  9.046887  8   \n"
     ]
    }
   ],
   "source": [
    "# What if we wanted to determine items that customers might buy \n",
    "# who have previously bought mineral water?\n",
    "# ---\n",
    "# \n",
    "# Subset the rules\n",
    "mineral_water <- subset(rules, subset = lhs %pin% \"mineral water\")\n",
    "\n",
    "# Order by confidence\n",
    "mineral_water<-sort(mineral_water, by=\"confidence\", decreasing=TRUE)\n",
    "\n",
    "# inspect top 5\n",
    "inspect(mineral_water[1:5])"
   ]
  },
  {
   "cell_type": "code",
   "execution_count": null,
   "metadata": {},
   "outputs": [],
   "source": []
  }
 ],
 "metadata": {
  "kernelspec": {
   "display_name": "R",
   "language": "R",
   "name": "ir"
  },
  "language_info": {
   "codemirror_mode": "r",
   "file_extension": ".r",
   "mimetype": "text/x-r-source",
   "name": "R",
   "pygments_lexer": "r",
   "version": "3.6.2"
  },
  "toc": {
   "base_numbering": 1,
   "nav_menu": {},
   "number_sections": true,
   "sideBar": true,
   "skip_h1_title": false,
   "title_cell": "Table of Contents",
   "title_sidebar": "Contents",
   "toc_cell": false,
   "toc_position": {},
   "toc_section_display": true,
   "toc_window_display": true
  }
 },
 "nbformat": 4,
 "nbformat_minor": 4
}
